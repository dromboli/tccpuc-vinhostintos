{
 "cells": [
  {
   "cell_type": "markdown",
   "id": "4d456102",
   "metadata": {},
   "source": [
    "### Importação de Pacotes"
   ]
  },
  {
   "cell_type": "code",
   "execution_count": 1,
   "id": "ca3fb327",
   "metadata": {},
   "outputs": [],
   "source": [
    "import pandas as pd\n",
    "import numpy as np\n",
    "import matplotlib.pyplot as plt\n",
    "import seaborn as sns"
   ]
  },
  {
   "cell_type": "markdown",
   "id": "ee63ff3b",
   "metadata": {},
   "source": [
    "### Importação do Dataset"
   ]
  },
  {
   "cell_type": "code",
   "execution_count": 2,
   "id": "24f5eb99",
   "metadata": {},
   "outputs": [],
   "source": [
    "red_wines = pd.read_csv('datasets/red_wines.csv')"
   ]
  },
  {
   "cell_type": "code",
   "execution_count": 3,
   "id": "a849548e",
   "metadata": {},
   "outputs": [
    {
     "name": "stdout",
     "output_type": "stream",
     "text": [
      "<class 'pandas.core.frame.DataFrame'>\n",
      "RangeIndex: 29396 entries, 0 to 29395\n",
      "Data columns (total 13 columns):\n",
      " #   Column                   Non-Null Count  Dtype  \n",
      "---  ------                   --------------  -----  \n",
      " 0   Description              29396 non-null  object \n",
      " 1   Price                    29396 non-null  float64\n",
      " 2   Alcohol                  29396 non-null  float64\n",
      " 3   ratings_average          29396 non-null  float64\n",
      " 4   acidity                  29396 non-null  float64\n",
      " 5   intensity                29396 non-null  float64\n",
      " 6   sweetness                29396 non-null  float64\n",
      " 7   tannin                   29396 non-null  float64\n",
      " 8   vintage_ratings_average  29396 non-null  float64\n",
      " 9   continent                29396 non-null  object \n",
      " 10  popular_wine             29396 non-null  int64  \n",
      " 11  popular_vintage          29396 non-null  int64  \n",
      " 12  rating_group             29396 non-null  int64  \n",
      "dtypes: float64(8), int64(3), object(2)\n",
      "memory usage: 2.9+ MB\n"
     ]
    }
   ],
   "source": [
    "red_wines.info()"
   ]
  },
  {
   "cell_type": "code",
   "execution_count": 4,
   "id": "bf1af285",
   "metadata": {},
   "outputs": [
    {
     "data": {
      "text/html": [
       "<div>\n",
       "<style scoped>\n",
       "    .dataframe tbody tr th:only-of-type {\n",
       "        vertical-align: middle;\n",
       "    }\n",
       "\n",
       "    .dataframe tbody tr th {\n",
       "        vertical-align: top;\n",
       "    }\n",
       "\n",
       "    .dataframe thead th {\n",
       "        text-align: right;\n",
       "    }\n",
       "</style>\n",
       "<table border=\"1\" class=\"dataframe\">\n",
       "  <thead>\n",
       "    <tr style=\"text-align: right;\">\n",
       "      <th></th>\n",
       "      <th>Description</th>\n",
       "      <th>Price</th>\n",
       "      <th>Alcohol</th>\n",
       "      <th>ratings_average</th>\n",
       "      <th>acidity</th>\n",
       "      <th>intensity</th>\n",
       "      <th>sweetness</th>\n",
       "      <th>tannin</th>\n",
       "      <th>vintage_ratings_average</th>\n",
       "      <th>continent</th>\n",
       "      <th>popular_wine</th>\n",
       "      <th>popular_vintage</th>\n",
       "      <th>rating_group</th>\n",
       "    </tr>\n",
       "  </thead>\n",
       "  <tbody>\n",
       "    <tr>\n",
       "      <th>0</th>\n",
       "      <td>This is a soft, richly layered and concentrate...</td>\n",
       "      <td>85.0</td>\n",
       "      <td>14.5</td>\n",
       "      <td>4.3</td>\n",
       "      <td>3.468246</td>\n",
       "      <td>3.143860</td>\n",
       "      <td>1.546160</td>\n",
       "      <td>2.078285</td>\n",
       "      <td>4.4</td>\n",
       "      <td>North America</td>\n",
       "      <td>0</td>\n",
       "      <td>0</td>\n",
       "      <td>4</td>\n",
       "    </tr>\n",
       "    <tr>\n",
       "      <th>1</th>\n",
       "      <td>A strong showing of black cherry and licorice ...</td>\n",
       "      <td>125.0</td>\n",
       "      <td>14.5</td>\n",
       "      <td>4.5</td>\n",
       "      <td>3.344858</td>\n",
       "      <td>4.749089</td>\n",
       "      <td>1.611013</td>\n",
       "      <td>3.312963</td>\n",
       "      <td>4.5</td>\n",
       "      <td>North America</td>\n",
       "      <td>1</td>\n",
       "      <td>0</td>\n",
       "      <td>4</td>\n",
       "    </tr>\n",
       "    <tr>\n",
       "      <th>2</th>\n",
       "      <td>This blended cuvée features the same attention...</td>\n",
       "      <td>52.0</td>\n",
       "      <td>14.2</td>\n",
       "      <td>4.2</td>\n",
       "      <td>3.883377</td>\n",
       "      <td>2.235860</td>\n",
       "      <td>1.453785</td>\n",
       "      <td>2.130269</td>\n",
       "      <td>4.2</td>\n",
       "      <td>North America</td>\n",
       "      <td>1</td>\n",
       "      <td>0</td>\n",
       "      <td>3</td>\n",
       "    </tr>\n",
       "    <tr>\n",
       "      <th>3</th>\n",
       "      <td>This stands apart from the other estate Pinots...</td>\n",
       "      <td>95.0</td>\n",
       "      <td>14.5</td>\n",
       "      <td>4.4</td>\n",
       "      <td>3.887788</td>\n",
       "      <td>2.400275</td>\n",
       "      <td>1.558072</td>\n",
       "      <td>2.328298</td>\n",
       "      <td>4.4</td>\n",
       "      <td>North America</td>\n",
       "      <td>0</td>\n",
       "      <td>0</td>\n",
       "      <td>3</td>\n",
       "    </tr>\n",
       "    <tr>\n",
       "      <th>4</th>\n",
       "      <td>This wine impresses immediately with its flavo...</td>\n",
       "      <td>100.0</td>\n",
       "      <td>14.4</td>\n",
       "      <td>4.3</td>\n",
       "      <td>3.627241</td>\n",
       "      <td>2.472972</td>\n",
       "      <td>1.557877</td>\n",
       "      <td>2.073915</td>\n",
       "      <td>4.5</td>\n",
       "      <td>North America</td>\n",
       "      <td>0</td>\n",
       "      <td>0</td>\n",
       "      <td>3</td>\n",
       "    </tr>\n",
       "  </tbody>\n",
       "</table>\n",
       "</div>"
      ],
      "text/plain": [
       "                                         Description  Price  Alcohol  \\\n",
       "0  This is a soft, richly layered and concentrate...   85.0     14.5   \n",
       "1  A strong showing of black cherry and licorice ...  125.0     14.5   \n",
       "2  This blended cuvée features the same attention...   52.0     14.2   \n",
       "3  This stands apart from the other estate Pinots...   95.0     14.5   \n",
       "4  This wine impresses immediately with its flavo...  100.0     14.4   \n",
       "\n",
       "   ratings_average   acidity  intensity  sweetness    tannin  \\\n",
       "0              4.3  3.468246   3.143860   1.546160  2.078285   \n",
       "1              4.5  3.344858   4.749089   1.611013  3.312963   \n",
       "2              4.2  3.883377   2.235860   1.453785  2.130269   \n",
       "3              4.4  3.887788   2.400275   1.558072  2.328298   \n",
       "4              4.3  3.627241   2.472972   1.557877  2.073915   \n",
       "\n",
       "   vintage_ratings_average      continent  popular_wine  popular_vintage  \\\n",
       "0                      4.4  North America             0                0   \n",
       "1                      4.5  North America             1                0   \n",
       "2                      4.2  North America             1                0   \n",
       "3                      4.4  North America             0                0   \n",
       "4                      4.5  North America             0                0   \n",
       "\n",
       "   rating_group  \n",
       "0             4  \n",
       "1             4  \n",
       "2             3  \n",
       "3             3  \n",
       "4             3  "
      ]
     },
     "execution_count": 4,
     "metadata": {},
     "output_type": "execute_result"
    }
   ],
   "source": [
    "red_wines.head(5)"
   ]
  },
  {
   "cell_type": "markdown",
   "id": "c2c53ca0",
   "metadata": {},
   "source": [
    "### Preprocessing\n",
    " 1. Criação de dummies para o campo **continent**.\n",
    " 2. Separação dos datasets entre treinamento e teste (train_test_split)\n",
    " 3. Normalização dos valores usando StandardScaler"
   ]
  },
  {
   "cell_type": "code",
   "execution_count": 5,
   "id": "af2b5e6e",
   "metadata": {},
   "outputs": [],
   "source": [
    "# 1\n",
    "dummies = pd.get_dummies(red_wines['continent'], drop_first=True)\n",
    "red_wines = pd.concat([red_wines, dummies], axis=1).drop('continent', axis=1)"
   ]
  },
  {
   "cell_type": "code",
   "execution_count": 6,
   "id": "fbd09036",
   "metadata": {},
   "outputs": [],
   "source": [
    "# 2\n",
    "from sklearn.feature_extraction.text import CountVectorizer\n",
    "\n",
    "vectorizer = CountVectorizer(stop_words='english')\n",
    "description_countvectorizer = vectorizer.fit_transform(red_wines['Description'].values.astype('U'))\n",
    "descriptions = pd.DataFrame(description_countvectorizer.toarray())\n",
    "\n",
    "red_wines = pd.concat([red_wines, descriptions], axis=1).drop('Description', axis=1)"
   ]
  },
  {
   "cell_type": "code",
   "execution_count": 7,
   "id": "dd784829",
   "metadata": {},
   "outputs": [],
   "source": [
    "# 3\n",
    "X = red_wines.drop('rating_group', axis=1)\n",
    "y = red_wines['rating_group']"
   ]
  },
  {
   "cell_type": "code",
   "execution_count": 8,
   "id": "916fe31d",
   "metadata": {},
   "outputs": [
    {
     "name": "stderr",
     "output_type": "stream",
     "text": [
      "C:\\Users\\HAL9000\\anaconda3\\lib\\site-packages\\pandas\\core\\indexing.py:1738: SettingWithCopyWarning: \n",
      "A value is trying to be set on a copy of a slice from a DataFrame.\n",
      "Try using .loc[row_indexer,col_indexer] = value instead\n",
      "\n",
      "See the caveats in the documentation: https://pandas.pydata.org/pandas-docs/stable/user_guide/indexing.html#returning-a-view-versus-a-copy\n",
      "  self._setitem_single_column(loc, value[:, i].tolist(), pi)\n",
      "C:\\Users\\HAL9000\\anaconda3\\lib\\site-packages\\pandas\\core\\indexing.py:1738: SettingWithCopyWarning: \n",
      "A value is trying to be set on a copy of a slice from a DataFrame.\n",
      "Try using .loc[row_indexer,col_indexer] = value instead\n",
      "\n",
      "See the caveats in the documentation: https://pandas.pydata.org/pandas-docs/stable/user_guide/indexing.html#returning-a-view-versus-a-copy\n",
      "  self._setitem_single_column(loc, value[:, i].tolist(), pi)\n"
     ]
    }
   ],
   "source": [
    "# 4\n",
    "from sklearn.model_selection import train_test_split\n",
    "from sklearn.preprocessing import StandardScaler\n",
    "\n",
    "X_train, X_test, y_train, y_test = train_test_split(X, y, test_size=0.3, random_state=42)\n",
    "\n",
    "scaler = StandardScaler()\n",
    "scaled_columns =['Price', 'Alcohol', 'ratings_average', 'acidity', 'intensity', 'sweetness',\n",
    "                  'tannin', 'vintage_ratings_average']\n",
    "X_train.loc[:, scaled_columns]= scaler.fit_transform(X_train.loc[:, scaled_columns])\n",
    "X_test.loc[:, scaled_columns] = scaler.transform(X_test.loc[:, scaled_columns])"
   ]
  },
  {
   "cell_type": "markdown",
   "id": "fa6b2d0e",
   "metadata": {},
   "source": [
    "### Dummy Classifier"
   ]
  },
  {
   "cell_type": "code",
   "execution_count": 9,
   "id": "fb967257",
   "metadata": {},
   "outputs": [],
   "source": [
    "from sklearn.dummy import DummyClassifier\n",
    "dummy_model = DummyClassifier()\n",
    "dummy_model.fit(X_train, y_train)\n",
    "\n",
    "dummy_pred = dummy_model.predict(X_test)"
   ]
  },
  {
   "cell_type": "code",
   "execution_count": 10,
   "id": "449ae657",
   "metadata": {},
   "outputs": [
    {
     "name": "stdout",
     "output_type": "stream",
     "text": [
      "Acurácia (treinamento): 0.4491422461972105\n",
      "Acurácia (teste): 0.4542465132101145\n"
     ]
    }
   ],
   "source": [
    "from sklearn.metrics import accuracy_score, classification_report, plot_confusion_matrix\n",
    "\n",
    "train_acc = accuracy_score(y_train, dummy_model.predict(X_train))\n",
    "test_acc = accuracy_score(y_test, dummy_pred)\n",
    "print('Acurácia (treinamento): {}'.format(train_acc))\n",
    "print('Acurácia (teste): {}'.format(test_acc))"
   ]
  },
  {
   "cell_type": "code",
   "execution_count": 11,
   "id": "92eb5031",
   "metadata": {},
   "outputs": [
    {
     "data": {
      "text/plain": [
       "Text(0.5, 1.0, 'Matriz de confusão - modelo Dummy Classifier')"
      ]
     },
     "execution_count": 11,
     "metadata": {},
     "output_type": "execute_result"
    },
    {
     "data": {
      "image/png": "[encoded data removed]",
      "text/plain": [
       "<Figure size 576x432 with 2 Axes>"
      ]
     },
     "metadata": {
      "needs_background": "light"
     },
     "output_type": "display_data"
    }
   ],
   "source": [
    "# Gráfico de matriz de confusão\n",
    "fig, ax = plt.subplots(figsize=(8, 6))\n",
    "plot_confusion_matrix(dummy_model,X_test,y_test, ax=ax)\n",
    "plt.title('Matriz de confusão - modelo Dummy Classifier')"
   ]
  },
  {
   "cell_type": "code",
   "execution_count": 12,
   "id": "7804678a",
   "metadata": {},
   "outputs": [
    {
     "name": "stdout",
     "output_type": "stream",
     "text": [
      "              precision    recall  f1-score   support\n",
      "\n",
      "           0       0.00      0.00      0.00        51\n",
      "           1       0.00      0.00      0.00      1116\n",
      "           2       0.00      0.00      0.00      2793\n",
      "           3       0.45      1.00      0.62      4006\n",
      "           4       0.00      0.00      0.00       823\n",
      "           5       0.00      0.00      0.00        30\n",
      "\n",
      "    accuracy                           0.45      8819\n",
      "   macro avg       0.08      0.17      0.10      8819\n",
      "weighted avg       0.21      0.45      0.28      8819\n",
      "\n"
     ]
    },
    {
     "name": "stderr",
     "output_type": "stream",
     "text": [
      "C:\\Users\\HAL9000\\anaconda3\\lib\\site-packages\\sklearn\\metrics\\_classification.py:1245: UndefinedMetricWarning: Precision and F-score are ill-defined and being set to 0.0 in labels with no predicted samples. Use `zero_division` parameter to control this behavior.\n",
      "  _warn_prf(average, modifier, msg_start, len(result))\n",
      "C:\\Users\\HAL9000\\anaconda3\\lib\\site-packages\\sklearn\\metrics\\_classification.py:1245: UndefinedMetricWarning: Precision and F-score are ill-defined and being set to 0.0 in labels with no predicted samples. Use `zero_division` parameter to control this behavior.\n",
      "  _warn_prf(average, modifier, msg_start, len(result))\n",
      "C:\\Users\\HAL9000\\anaconda3\\lib\\site-packages\\sklearn\\metrics\\_classification.py:1245: UndefinedMetricWarning: Precision and F-score are ill-defined and being set to 0.0 in labels with no predicted samples. Use `zero_division` parameter to control this behavior.\n",
      "  _warn_prf(average, modifier, msg_start, len(result))\n"
     ]
    }
   ],
   "source": [
    "# Classification Report\n",
    "print(classification_report(y_test, dummy_pred))"
   ]
  },
  {
   "cell_type": "markdown",
   "id": "ac55fa53",
   "metadata": {},
   "source": [
    "### Logistic Regression Model"
   ]
  },
  {
   "cell_type": "code",
   "execution_count": 13,
   "id": "d70a7178",
   "metadata": {},
   "outputs": [],
   "source": [
    "from sklearn.linear_model import LogisticRegression\n",
    "base_model = LogisticRegression(max_iter=10000)\n"
   ]
  },
  {
   "cell_type": "markdown",
   "id": "0163245a",
   "metadata": {},
   "source": [
    "#### GridSearch - busca pelos melhores hiperparâmetros"
   ]
  },
  {
   "cell_type": "code",
   "execution_count": 14,
   "id": "b5972f9c",
   "metadata": {},
   "outputs": [],
   "source": [
    "# Parâmetros\n",
    "C = [0.001, 0.01, 0.1, 1, 10, 100]\n",
    "\n",
    "param_grid = dict(C=C)"
   ]
  },
  {
   "cell_type": "code",
   "execution_count": 15,
   "id": "ea866500",
   "metadata": {
    "scrolled": true
   },
   "outputs": [
    {
     "name": "stdout",
     "output_type": "stream",
     "text": [
      "Fitting 5 folds for each of 6 candidates, totalling 30 fits\n",
      "[CV 1/5] END ........................................C=0.001; total time= 1.8min\n",
      "[CV 2/5] END ........................................C=0.001; total time= 1.8min\n",
      "[CV 3/5] END ........................................C=0.001; total time= 1.8min\n",
      "[CV 4/5] END ........................................C=0.001; total time= 1.8min\n",
      "[CV 5/5] END ........................................C=0.001; total time= 1.8min\n",
      "[CV 1/5] END .........................................C=0.01; total time= 3.0min\n",
      "[CV 2/5] END .........................................C=0.01; total time= 2.9min\n",
      "[CV 3/5] END .........................................C=0.01; total time= 3.1min\n",
      "[CV 4/5] END .........................................C=0.01; total time= 3.0min\n",
      "[CV 5/5] END .........................................C=0.01; total time= 3.1min\n",
      "[CV 1/5] END ..........................................C=0.1; total time= 5.8min\n",
      "[CV 2/5] END ..........................................C=0.1; total time= 5.9min\n",
      "[CV 3/5] END ..........................................C=0.1; total time= 5.8min\n",
      "[CV 4/5] END ..........................................C=0.1; total time= 5.8min\n",
      "[CV 5/5] END ..........................................C=0.1; total time= 5.5min\n",
      "[CV 1/5] END ............................................C=1; total time=13.3min\n",
      "[CV 2/5] END ............................................C=1; total time=12.5min\n",
      "[CV 3/5] END ............................................C=1; total time=12.6min\n",
      "[CV 4/5] END ............................................C=1; total time=12.8min\n",
      "[CV 5/5] END ............................................C=1; total time=13.5min\n",
      "[CV 1/5] END ...........................................C=10; total time=28.7min\n",
      "[CV 2/5] END ...........................................C=10; total time=29.0min\n",
      "[CV 3/5] END ...........................................C=10; total time=29.5min\n",
      "[CV 4/5] END ...........................................C=10; total time=26.5min\n",
      "[CV 5/5] END ...........................................C=10; total time=27.8min\n",
      "[CV 1/5] END ..........................................C=100; total time=49.2min\n",
      "[CV 2/5] END ..........................................C=100; total time=45.9min\n",
      "[CV 3/5] END ..........................................C=100; total time=43.5min\n",
      "[CV 4/5] END ..........................................C=100; total time=44.2min\n",
      "[CV 5/5] END ..........................................C=100; total time=44.2min\n"
     ]
    },
    {
     "data": {
      "text/plain": [
       "GridSearchCV(estimator=LogisticRegression(max_iter=10000),\n",
       "             param_grid={'C': [0.001, 0.01, 0.1, 1, 10, 100]}, verbose=4)"
      ]
     },
     "execution_count": 15,
     "metadata": {},
     "output_type": "execute_result"
    }
   ],
   "source": [
    "from sklearn.model_selection import GridSearchCV\n",
    "\n",
    "log_model = GridSearchCV(base_model,param_grid=param_grid, verbose=4)\n",
    "log_model.fit(X_train, y_train)"
   ]
  },
  {
   "cell_type": "code",
   "execution_count": 16,
   "id": "4a188a86",
   "metadata": {},
   "outputs": [
    {
     "data": {
      "text/plain": [
       "{'C': 0.1}"
      ]
     },
     "execution_count": 16,
     "metadata": {},
     "output_type": "execute_result"
    }
   ],
   "source": [
    "log_model.best_params_"
   ]
  },
  {
   "cell_type": "code",
   "execution_count": 17,
   "id": "f1a2a7a8",
   "metadata": {},
   "outputs": [
    {
     "name": "stdout",
     "output_type": "stream",
     "text": [
      "Best: 0.6763873666112861 using {'C': 0.1}\n",
      "0.5935270001074548 (0.005485315845125186) with: {'C': 0.001}\n",
      "0.6562188041333527 (0.006171990137814158) with: {'C': 0.01}\n",
      "0.6763873666112861 (0.009531377273418165) with: {'C': 0.1}\n",
      "0.6609328619488066 (0.008810851857543935) with: {'C': 1}\n",
      "0.6273029531201477 (0.00631317619618868) with: {'C': 10}\n",
      "0.5921665975885233 (0.0073571881069801745) with: {'C': 100}\n"
     ]
    }
   ],
   "source": [
    "# Resultados\n",
    "print(\"Best: {} using {}\".format(log_model.best_score_, log_model.best_params_))\n",
    "means = log_model.cv_results_['mean_test_score']\n",
    "stds = log_model.cv_results_['std_test_score']\n",
    "params = log_model.cv_results_['params']\n",
    "for mean, stdev, param in zip(means, stds, params):\n",
    "    print(\"{} ({}) with: {}\".format(mean, stdev, param))"
   ]
  },
  {
   "cell_type": "markdown",
   "id": "5e776311",
   "metadata": {},
   "source": [
    "#### Avaliação do modelo"
   ]
  },
  {
   "cell_type": "code",
   "execution_count": 18,
   "id": "8bb32a9e",
   "metadata": {},
   "outputs": [
    {
     "name": "stdout",
     "output_type": "stream",
     "text": [
      "Acurácia (treinamento): 0.7952082422121787\n",
      "Acurácia (teste): 0.689987526930491\n"
     ]
    }
   ],
   "source": [
    "log_pred = log_model.predict(X_test)\n",
    "\n",
    "train_acc = accuracy_score(y_train, log_model.predict(X_train))\n",
    "test_acc = accuracy_score(y_test, log_pred)\n",
    "print('Acurácia (treinamento): {}'.format(train_acc))\n",
    "print('Acurácia (teste): {}'.format(test_acc))"
   ]
  },
  {
   "cell_type": "code",
   "execution_count": 22,
   "id": "f81ac290",
   "metadata": {},
   "outputs": [
    {
     "data": {
      "text/plain": [
       "Text(0.5, 1.0, 'Matriz de confusão - Logistic Regression Model')"
      ]
     },
     "execution_count": 22,
     "metadata": {},
     "output_type": "execute_result"
    },
    {
     "data": {
      "image/png": "[encoded data removed]",
      "text/plain": [
       "<Figure size 576x432 with 2 Axes>"
      ]
     },
     "metadata": {
      "needs_background": "light"
     },
     "output_type": "display_data"
    }
   ],
   "source": [
    "# Gráfico de matriz de confusão\n",
    "fig, ax = plt.subplots(figsize=(8, 6))\n",
    "plot_confusion_matrix(log_model,X_test,y_test, ax=ax)\n",
    "plt.title('Matriz de confusão - Logistic Regression Model')"
   ]
  },
  {
   "cell_type": "code",
   "execution_count": 20,
   "id": "a71d609f",
   "metadata": {
    "scrolled": true
   },
   "outputs": [
    {
     "name": "stdout",
     "output_type": "stream",
     "text": [
      "              precision    recall  f1-score   support\n",
      "\n",
      "           0       0.40      0.04      0.07        51\n",
      "           1       0.67      0.55      0.60      1116\n",
      "           2       0.65      0.67      0.66      2793\n",
      "           3       0.73      0.81      0.77      4006\n",
      "           4       0.65      0.41      0.50       823\n",
      "           5       0.33      0.03      0.06        30\n",
      "\n",
      "    accuracy                           0.69      8819\n",
      "   macro avg       0.57      0.42      0.44      8819\n",
      "weighted avg       0.68      0.69      0.68      8819\n",
      "\n"
     ]
    }
   ],
   "source": [
    "print(classification_report(y_test, log_pred))"
   ]
  },
  {
   "cell_type": "markdown",
   "id": "491c082c",
   "metadata": {},
   "source": [
    "#### Exportação do modelo"
   ]
  },
  {
   "cell_type": "code",
   "execution_count": 21,
   "id": "5ff60466",
   "metadata": {},
   "outputs": [
    {
     "data": {
      "text/plain": [
       "['models/log_model-cv2.joblib']"
      ]
     },
     "execution_count": 21,
     "metadata": {},
     "output_type": "execute_result"
    }
   ],
   "source": [
    "import joblib\n",
    "joblib.dump(log_model, 'models/log_model-cv2.joblib')"
   ]
  },
  {
   "cell_type": "code",
   "execution_count": null,
   "id": "3b25fc64",
   "metadata": {},
   "outputs": [],
   "source": []
  }
 ],
 "metadata": {
  "kernelspec": {
   "display_name": "Python 3",
   "language": "python",
   "name": "python3"
  },
  "language_info": {
   "codemirror_mode": {
    "name": "ipython",
    "version": 3
   },
   "file_extension": ".py",
   "mimetype": "text/x-python",
   "name": "python",
   "nbconvert_exporter": "python",
   "pygments_lexer": "ipython3",
   "version": "3.8.8"
  }
 },
 "nbformat": 4,
 "nbformat_minor": 5
}
