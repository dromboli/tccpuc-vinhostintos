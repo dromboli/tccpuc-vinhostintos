{
 "cells": [
  {
   "cell_type": "markdown",
   "id": "94d24271",
   "metadata": {},
   "source": [
    "### Etapas iniciais: importação de pacotes, definição de funções, carregamento de dados"
   ]
  },
  {
   "cell_type": "code",
   "execution_count": 1,
   "id": "e6667d81",
   "metadata": {},
   "outputs": [],
   "source": [
    "import pandas as pd\n",
    "import numpy as np"
   ]
  },
  {
   "cell_type": "code",
   "execution_count": 2,
   "id": "e5202b52",
   "metadata": {},
   "outputs": [],
   "source": [
    "# Carregamento dos datasets\n",
    "winemag = pd.read_csv('datasets/winemag_red.csv')\n",
    "vivino = pd.read_csv('datasets/vivino_red.csv')"
   ]
  },
  {
   "cell_type": "code",
   "execution_count": 3,
   "id": "bed0ffed",
   "metadata": {},
   "outputs": [],
   "source": [
    "def values_missing(df, only_missing=True):\n",
    "    '''Calcula e retorna o percentual e o número de registros nulos no dataframe df'''\n",
    "    missing = pd.concat({'percent_missing': 100* df.isnull().sum() / len(df),\n",
    "                         'rows_missing': df.isnull().sum()}, axis=1)\n",
    "    if only_missing:\n",
    "        missing = missing[missing.percent_missing > 0]\n",
    "    return missing.sort_values(by='percent_missing', ascending=False)\n"
   ]
  },
  {
   "cell_type": "markdown",
   "id": "5cd34ee3",
   "metadata": {},
   "source": [
    "## Junção dos datasets da Wine Enthusiast e do Vivino\n",
    "- A junção dos dataset será feita considerando que a chave primária do dataset Vivino é composta pelos campos **full_name** e **year**. Primeiramente são feitas transformações no dataset Winemag para que possuir campos equivalentes aos campos chave do Vivino. Para permitir isso, foram feitos os seguintes passos:\n",
    " - 1° passo: Extrair da coluna **Title** do dataset Winemag e informação de ano/safra, armazenar a informação em uma  coluna nova denomiada **year**.\n",
    " - 2° passo: Analisar registros individuais de ambos os datasets procurando encontrar padrões para identificar o campo **full_name** do Dataset Vivino a partir dos dados disponíveis no dataset Winemag (já que não há um campo de identificador comum entre os datasets).\n",
    " - 3° passo: Para cada nome candidato, criar a coluna com o nome e juntar os datasets. \n",
    " - 4° passo: Unificar todos os datasets gerados no passo 3."
   ]
  },
  {
   "cell_type": "markdown",
   "id": "08c890ab",
   "metadata": {},
   "source": [
    "#### Winemag: criação da coluna **year** a partir da extraçào de informação contida em **Title**"
   ]
  },
  {
   "cell_type": "code",
   "execution_count": 4,
   "id": "98ed5839",
   "metadata": {},
   "outputs": [
    {
     "name": "stdout",
     "output_type": "stream",
     "text": [
      "61170                             Jeff Cohn 2016 Rockpile Vineyard Haley Syrah (Rockpile)\n",
      "6547                                        Carabella 2014 Plowbuster Pinot Noir (Oregon)\n",
      "16436                                       Domaine des Marrans 2015  Beaujolais-Villages\n",
      "16932                                                           Château Doms 2014  Graves\n",
      "27212                               Torres 1995 Gran Sangre de Toro Reserva Red (Penedès)\n",
      "12916                                                   Banfi 2013 Bel Nero Red (Toscana)\n",
      "76679                            Domaine Guenaël Jambon 2016 Côte du Py Réserve  (Morgon)\n",
      "54072                                                  Perimeter 2017 Merlot (Washington)\n",
      "81464                             Château Labégorce Margaux 2017 Barrel Sample  (Margaux)\n",
      "36950       B.R. Cohn 2010 Olive Hill Estate Vineyards Cabernet Sauvignon (Sonoma Valley)\n",
      "83514                                              Brunelli 2015 Pariondo  (Valpolicella)\n",
      "65024                         Il Valentiano 2013 Campo di Marzo  (Brunello di Montalcino)\n",
      "66151                 Ken Brown 2015 Rancho La Vina Vineyard Pinot Noir (Sta. Rita Hills)\n",
      "32531                       Château Mauvesin Barton 2012 Barrel Sample  (Moulis-en-Médoc)\n",
      "36515                                      Standing Sun 2011 Syrah (Santa Barbara County)\n",
      "39640                                          Château Ramage la Batisse 2012  Haut-Médoc\n",
      "41254    Westerly 2017 Single Vineyard Cabernet Sauvignon (Happy Canyon of Santa Barbara)\n",
      "9234                                      Skinner 2013 Eighteen Sixty-One Red (El Dorado)\n",
      "74506                              Diamond Ridge Vineyards 2007 Aspects Red (Lake County)\n",
      "4023                                         Bogle 2017 Reserve Old Vine Zinfandel (Lodi)\n",
      "Name: Title, dtype: object\n"
     ]
    }
   ],
   "source": [
    "# Analisando os samples do título, encontra-se o padrão regex (\\s\\d{4}\\s) para a identificação de grupos de anos\n",
    "with pd.option_context('display.max_colwidth', 150):\n",
    "    print(winemag.Title.sample(20))"
   ]
  },
  {
   "cell_type": "code",
   "execution_count": 5,
   "id": "6c64de9e",
   "metadata": {},
   "outputs": [
    {
     "name": "stdout",
     "output_type": "stream",
     "text": [
      "24122      Charles B. Mitchell NV Bella Rossa Italian Style Red (Fair Play)\n",
      "44926                   Hood Crest NV Grand Chêne Red (Columbia Gorge (OR))\n",
      "55685                                      Frey NV Organic Red (California)\n",
      "60375       Hound's Tree NV Highwire Pinot Noir (North Fork of Long Island)\n",
      "39286                           Joullian NV Retro Rouge Red (Carmel Valley)\n",
      "62754                                   Troublemaker NV Red (Central Coast)\n",
      "20246                         Graveyard NV Paso Tombstone Red (Paso Robles)\n",
      "35370                        Cairdeas NV MV Trí3 Red (Columbia Valley (WA))\n",
      "17848                             Liberty Lake NV Legacy Red (Red Mountain)\n",
      "68377                William Chris NV Skeleton Key Proprietor's Red (Texas)\n",
      "17710          L'original French Kiss NV Cabernet Sauvignon (Vin de France)\n",
      "78595                    Left Bend NV Mashup v.3 Red (Santa Cruz Mountains)\n",
      "4401                         Original House Wine NV Merlot (Central Valley)\n",
      "57263                                 Le Parisien NV Merlot (Vin de France)\n",
      "62368    Flying Trout NV Phinny Hill Vineyard Malbec (Columbia Valley (WA))\n",
      "79212            Vie Winery NV Mélange Maison IV Old Vines Red (California)\n",
      "18339                    Wine o'Clock NV Snipes Creek Redd Red (Washington)\n",
      "50970                          Dark Horse NV Canned Pinot Noir (California)\n",
      "74017               Silver NV 724 Reddick Street Red (Santa Barbara County)\n",
      "37848                          Washington Hills NV Rainier Red (Washington)\n",
      "Name: Title, dtype: object\n"
     ]
    },
    {
     "name": "stderr",
     "output_type": "stream",
     "text": [
      "C:\\Users\\HAL9000\\anaconda3\\lib\\site-packages\\pandas\\core\\strings\\accessor.py:101: UserWarning: This pattern has match groups. To actually get the groups, use str.extract.\n",
      "  return func(self, *args, **kwargs)\n"
     ]
    }
   ],
   "source": [
    "# Dos 87.259 registros, 381 que não possuem o padrão de ano no campo Title. Após a extração dos dados \n",
    "# esses vinhos ficarão com a nova coluna year nula e não serão levados na junção com o dataset Vivino.\n",
    "condition = winemag.Title.str.contains(r'(\\s\\d{4}\\s)', regex=True)\n",
    "with pd.option_context('display.max_colwidth', 150):\n",
    "    print(winemag.Title[ ~condition].sample(20))"
   ]
  },
  {
   "cell_type": "code",
   "execution_count": 6,
   "id": "2804caf6",
   "metadata": {},
   "outputs": [],
   "source": [
    "# Extração e criação da nova coluna year\n",
    "winemag['year'] = winemag.Title.str.extract(r'(\\s\\d{4}\\s)').replace(' ', '').astype('float64')"
   ]
  },
  {
   "cell_type": "code",
   "execution_count": 7,
   "id": "2f1385bc",
   "metadata": {},
   "outputs": [
    {
     "name": "stdout",
     "output_type": "stream",
     "text": [
      "<class 'pandas.core.frame.DataFrame'>\n",
      "RangeIndex: 87216 entries, 0 to 87215\n",
      "Data columns (total 12 columns):\n",
      " #   Column       Non-Null Count  Dtype  \n",
      "---  ------       --------------  -----  \n",
      " 0   Title        87216 non-null  object \n",
      " 1   Description  87216 non-null  object \n",
      " 2   Taster       84067 non-null  object \n",
      " 3   Rating       87216 non-null  int64  \n",
      " 4   Price        87216 non-null  float64\n",
      " 5   Designation  63064 non-null  object \n",
      " 6   Variety      87216 non-null  object \n",
      " 7   Appellation  87216 non-null  object \n",
      " 8   Winery       87216 non-null  object \n",
      " 9   Alcohol      82872 non-null  float64\n",
      " 10  Bottle Size  87216 non-null  int64  \n",
      " 11  year         86835 non-null  float64\n",
      "dtypes: float64(3), int64(2), object(7)\n",
      "memory usage: 8.0+ MB\n"
     ]
    }
   ],
   "source": [
    "winemag.info()"
   ]
  },
  {
   "cell_type": "code",
   "execution_count": 8,
   "id": "6c2cc715",
   "metadata": {},
   "outputs": [
    {
     "data": {
      "text/html": [
       "<div>\n",
       "<style scoped>\n",
       "    .dataframe tbody tr th:only-of-type {\n",
       "        vertical-align: middle;\n",
       "    }\n",
       "\n",
       "    .dataframe tbody tr th {\n",
       "        vertical-align: top;\n",
       "    }\n",
       "\n",
       "    .dataframe thead th {\n",
       "        text-align: right;\n",
       "    }\n",
       "</style>\n",
       "<table border=\"1\" class=\"dataframe\">\n",
       "  <thead>\n",
       "    <tr style=\"text-align: right;\">\n",
       "      <th></th>\n",
       "      <th>year</th>\n",
       "      <th>Title</th>\n",
       "    </tr>\n",
       "  </thead>\n",
       "  <tbody>\n",
       "    <tr>\n",
       "      <th>71920</th>\n",
       "      <td>2004.0</td>\n",
       "      <td>Handley 2004 Pinot Noir (Mendocino County)</td>\n",
       "    </tr>\n",
       "    <tr>\n",
       "      <th>55470</th>\n",
       "      <td>2017.0</td>\n",
       "      <td>Huett 2017 Shumaker Vineyard Pinot Noir (Willa...</td>\n",
       "    </tr>\n",
       "    <tr>\n",
       "      <th>18408</th>\n",
       "      <td>2015.0</td>\n",
       "      <td>Château Bélair-Monange 2015 Barrel Sample  (Sa...</td>\n",
       "    </tr>\n",
       "    <tr>\n",
       "      <th>78720</th>\n",
       "      <td>2015.0</td>\n",
       "      <td>Sass 2015 Estate Pinot Noir (Willamette Valley)</td>\n",
       "    </tr>\n",
       "    <tr>\n",
       "      <th>14036</th>\n",
       "      <td>2015.0</td>\n",
       "      <td>Parras Wines 2015 Mula Velha Reserva Red (Lisboa)</td>\n",
       "    </tr>\n",
       "    <tr>\n",
       "      <th>31182</th>\n",
       "      <td>2013.0</td>\n",
       "      <td>Savage Grace 2013 Les Collines Vineyard Syrah ...</td>\n",
       "    </tr>\n",
       "    <tr>\n",
       "      <th>74468</th>\n",
       "      <td>1996.0</td>\n",
       "      <td>Brutocao 1996 Brutocao Vineyards Merlot (Mendo...</td>\n",
       "    </tr>\n",
       "    <tr>\n",
       "      <th>57787</th>\n",
       "      <td>2014.0</td>\n",
       "      <td>La Poderina 2014  Brunello di Montalcino</td>\n",
       "    </tr>\n",
       "    <tr>\n",
       "      <th>70490</th>\n",
       "      <td>2016.0</td>\n",
       "      <td>Montes 2016 Malbec (Colchagua Valley)</td>\n",
       "    </tr>\n",
       "    <tr>\n",
       "      <th>63411</th>\n",
       "      <td>2018.0</td>\n",
       "      <td>Château Clerc Milon 2018 Barrel Sample  (Pauil...</td>\n",
       "    </tr>\n",
       "  </tbody>\n",
       "</table>\n",
       "</div>"
      ],
      "text/plain": [
       "         year                                              Title\n",
       "71920  2004.0         Handley 2004 Pinot Noir (Mendocino County)\n",
       "55470  2017.0  Huett 2017 Shumaker Vineyard Pinot Noir (Willa...\n",
       "18408  2015.0  Château Bélair-Monange 2015 Barrel Sample  (Sa...\n",
       "78720  2015.0    Sass 2015 Estate Pinot Noir (Willamette Valley)\n",
       "14036  2015.0  Parras Wines 2015 Mula Velha Reserva Red (Lisboa)\n",
       "31182  2013.0  Savage Grace 2013 Les Collines Vineyard Syrah ...\n",
       "74468  1996.0  Brutocao 1996 Brutocao Vineyards Merlot (Mendo...\n",
       "57787  2014.0           La Poderina 2014  Brunello di Montalcino\n",
       "70490  2016.0              Montes 2016 Malbec (Colchagua Valley)\n",
       "63411  2018.0  Château Clerc Milon 2018 Barrel Sample  (Pauil..."
      ]
     },
     "execution_count": 8,
     "metadata": {},
     "output_type": "execute_result"
    }
   ],
   "source": [
    "winemag.loc[:, ['year', 'Title']].sample(10)"
   ]
  },
  {
   "cell_type": "markdown",
   "id": "0fcc39f1",
   "metadata": {},
   "source": [
    "#### Winemag: criação de colunas candidatas a junção com a coluna full_name(Vivino)"
   ]
  },
  {
   "cell_type": "markdown",
   "id": "552d8512",
   "metadata": {},
   "source": [
    "- Padrões identificados na coluna full_name para criação dos nomes candidatos, com exemplos.\n",
    "| # | Title (Winemag) - example | full_name (Vivino) - example | name composition - example| candidate name pattern | matches |\n",
    "| --- | --- | --- | --- | --- | --- |\n",
    "| 1 | Scott Paul 2016 Maresh Vineyard Pinot Noir (Dundee Hills) | Scott Paul Maresh Vineyard Pinot Noir  | *Winery*: Scott Paul <br> *Designation*: Maresh Vineyard <br> *Variety*: Pinot Noir | [Winery] + [Designation] + [Variety] | 7.042 |\n",
    "| 2 | Marco Abella 2013 Mas Mallola Red (Priorat) | Marco Abella Mas Mallola | *Winery*: Marco Abella <br> *Designation*: Mas Mallola | [Winery] + [Designation] | 2.861 |\n",
    "| 3 | Saddleback 2011 Cabernet Sauvignon (Oakville) | Saddleback Cabernet Sauvignon | *Winery*: Saddleback <br> *Variery*: Cabernet Sauvignon | [Winery] + [Variety] | 8.892 |\n",
    "| 4 | Apaltagua 2015 Reserva Carmenère (Apalta) | Apaltagua Carmenère Reserva  | *Winery*: Apatagua <br> *Designation*: Reserva <br> *Variety*: Carmenère | [Winery] + [Variety] + [Designation] | 272 |\n",
    "| 5 | Château Feytit-Clinet 2017 Barrel Sample  (Pomerol) | Château Feytit-Clinet Pomerol | *Winery*: Château Feytit-Clinet <br> *Appellation*: Pomerol, Bordeaux, France | [Winery] + primeira parte de [Appellation] | 6.256 |\n",
    "| 6 | Château du Caillau 2014 Cahors | Château du Caillau Malbec Cahors | *Winery*: Château du Caillau <br> *Variety*: Malbec <br> *Appellation*: Cahors, Southwest France, France | [Winery] + [Variety] + primeira parte de [Appellation] | 176 |\n",
    "| 7 | Chime 2013 Cabernet Sauvignon (California) | Chime California Cabernet Sauvignon \t| *Winery*: Chime <br> *Appellation*: California, California Other, California, US <br> *Variety*: Cabernet Sauvignon | [Winery] + primeira parte de [Appellation] + [Variety] | 876 |\n",
    "| 8 | Marcarini 2013 La Serra (Barolo) | Marcarini La Serra Barolo | *Winery*: Marcarini <br> *Designation*: La Serra <br> *Appellation*: Roero, Piedmont, Italy | [Winery] + [Designation] + primeira parte de [Appellation] \t | 1.310 |\n",
    "| 9 | Demarie 2011 Riserva (Roero) | Demarie Roero Riserva | *Winery*: Demarie <br> *Appellation*: California, California Other, California, US <br> *Designation*: Riserva | [Winery] + primeira parte de [Appellation] + [Designation] | 639 |\n",
    "| 10 | Algodon 2016 Estate Bonarda (Mendoza) | Algodon Estate Bonarda | *Winery*: Algodon <br> *Designation*: Estate <br> *Variety*: Bonarda, Other Red | [Winery] + [Designation] + primeira parte de [Variety] | 360 |\n",
    "| 11 | Lamadrid 2015 Single Vineyard Bonarda (Agrelo) | Lamadrid Bonarda Single Vineyard | *Winery*: Lamadrid <br> *Variety*: Bonarda, Other Red <br> *Designation*: Single Vineyard | [Winery] + primeira parte de [Variety] + [Designation] | 73 |\n",
    "| 12 | Planeta 2013 Frappato (Vittoria) | Planeta Frappato | *Winery*: Planeta <br> *Variety*: Frappato, Italian Red | [Winery] + primeira parte de [Variety] | 549 |\n",
    "| 13 | Scala Dei 2016 Garnatxa (Priorat) | Scala Dei Garnatxa Priorat | *Winery*: Scala Dei <br> *Variety*: Garnatxa, Grenache <br> *Appellation*: Priorat, Catalonia, Spain | [Winery] + primeira parte de [Variety] + primeira parte de [Appellation] | 35 |\n",
    "| 14 | Kirkland Signature 2014 Meritage (Rutherford) | Kirkland Signature Rutherford Meritage | *Winery*: Kirkland Signature <br> *Appellation*: Rutherford, Napa, California, US <br> *Variety*: Meritage, Bordeaux-style Red Blend | [Winery] + primeira parte de [Appellation] + primeira parte de [Variety] | 55 |\n",
    "| **Total** | --- | --- | --- | --- | **29.396** |"
   ]
  },
  {
   "cell_type": "code",
   "execution_count": 9,
   "id": "cf9a65d4",
   "metadata": {},
   "outputs": [
    {
     "name": "stdout",
     "output_type": "stream",
     "text": [
      "64238                                       Mitolo 2014 Marsican Shiraz (McLaren Vale)\n",
      "52232                      Hierogram 2016 Vineyard 8 Block N Old Vine Zinfandel (Lodi)\n",
      "18135                                         Giacomo Fenocchio 2013 Nebbiolo (Langhe)\n",
      "1508                                  Pierre Amadieu 2017 Les Piallats Red (Vinsobres)\n",
      "31308                                            Joseph Drouhin 2012  Grands-Echezeaux\n",
      "64765                                            Apothic 2015 Inferno Red (California)\n",
      "70796                            Ceago Vinegarden 2000 Petite Sirah (Mendocino County)\n",
      "67779                        Cantina del Taburno 2015 Fidelis  (Aglianico del Taburno)\n",
      "82548                                Lange 2014 Reserve Pinot Noir (Willamette Valley)\n",
      "55416    Cardwell Hill 2016 Monet Blocks Estate Bottled Pinot Noir (Willamette Valley)\n",
      "Name: Title, dtype: object\n"
     ]
    }
   ],
   "source": [
    "# Imprimindo exemplos de títulos para investigar os padrões de nomenclatura do Vivino\n",
    "with pd.option_context('display.max_colwidth', 150):\n",
    "    print(winemag.Title.sample(10))"
   ]
  },
  {
   "cell_type": "code",
   "execution_count": 10,
   "id": "24ab7b6b",
   "metadata": {},
   "outputs": [
    {
     "data": {
      "text/plain": [
       "Title          Paul Hobbs & Bertrand Gabriel Vigouroux 2011 C...\n",
       "Description    One of two wines produced as a joint venture b...\n",
       "Taster                                                Roger Voss\n",
       "Rating                                                        91\n",
       "Price                                                     62.625\n",
       "Designation                                               Crocus\n",
       "Variety                                                   Malbec\n",
       "Appellation                     Cahors, Southwest France, France\n",
       "Winery                   Paul Hobbs & Bertrand Gabriel Vigouroux\n",
       "Alcohol                                                     14.5\n",
       "Bottle Size                                                  750\n",
       "year                                                      2011.0\n",
       "Name: 32091, dtype: object"
      ]
     },
     "execution_count": 10,
     "metadata": {},
     "output_type": "execute_result"
    }
   ],
   "source": [
    "winemag.loc[32091]\n",
    "#winemag[ winemag['Winery'] == '']"
   ]
  },
  {
   "cell_type": "code",
   "execution_count": 11,
   "id": "ff93428e",
   "metadata": {},
   "outputs": [
    {
     "data": {
      "text/html": [
       "<div>\n",
       "<style scoped>\n",
       "    .dataframe tbody tr th:only-of-type {\n",
       "        vertical-align: middle;\n",
       "    }\n",
       "\n",
       "    .dataframe tbody tr th {\n",
       "        vertical-align: top;\n",
       "    }\n",
       "\n",
       "    .dataframe thead th {\n",
       "        text-align: right;\n",
       "    }\n",
       "</style>\n",
       "<table border=\"1\" class=\"dataframe\">\n",
       "  <thead>\n",
       "    <tr style=\"text-align: right;\">\n",
       "      <th></th>\n",
       "      <th>id</th>\n",
       "      <th>full_name</th>\n",
       "      <th>name</th>\n",
       "      <th>wine_region</th>\n",
       "      <th>winery</th>\n",
       "      <th>winery_region</th>\n",
       "      <th>country</th>\n",
       "      <th>ratings_count</th>\n",
       "      <th>ratings_average</th>\n",
       "      <th>alcohol</th>\n",
       "      <th>acidity</th>\n",
       "      <th>intensity</th>\n",
       "      <th>sweetness</th>\n",
       "      <th>tannin</th>\n",
       "      <th>year</th>\n",
       "      <th>vintage_id</th>\n",
       "      <th>vintage_ratings_count</th>\n",
       "      <th>vintage_ratings_average</th>\n",
       "    </tr>\n",
       "  </thead>\n",
       "  <tbody>\n",
       "    <tr>\n",
       "      <th>815666</th>\n",
       "      <td>1761</td>\n",
       "      <td>V. Sattui Napa Valley Syrah</td>\n",
       "      <td>Napa Valley Syrah</td>\n",
       "      <td>Napa Valley</td>\n",
       "      <td>V. Sattui</td>\n",
       "      <td>St. Helena</td>\n",
       "      <td>United States</td>\n",
       "      <td>1103</td>\n",
       "      <td>3.9</td>\n",
       "      <td>14.8</td>\n",
       "      <td>3.144093</td>\n",
       "      <td>4.510927</td>\n",
       "      <td>1.267883</td>\n",
       "      <td>3.663588</td>\n",
       "      <td>2017</td>\n",
       "      <td>152160168</td>\n",
       "      <td>17</td>\n",
       "      <td>4.2</td>\n",
       "    </tr>\n",
       "  </tbody>\n",
       "</table>\n",
       "</div>"
      ],
      "text/plain": [
       "          id                    full_name               name  wine_region  \\\n",
       "815666  1761  V. Sattui Napa Valley Syrah  Napa Valley Syrah  Napa Valley   \n",
       "\n",
       "           winery winery_region        country  ratings_count  \\\n",
       "815666  V. Sattui    St. Helena  United States           1103   \n",
       "\n",
       "        ratings_average  alcohol   acidity  intensity  sweetness    tannin  \\\n",
       "815666              3.9     14.8  3.144093   4.510927   1.267883  3.663588   \n",
       "\n",
       "        year  vintage_id  vintage_ratings_count  vintage_ratings_average  \n",
       "815666  2017   152160168                     17                      4.2  "
      ]
     },
     "execution_count": 11,
     "metadata": {},
     "output_type": "execute_result"
    }
   ],
   "source": [
    "vivino[vivino['full_name'] == 'V. Sattui Napa Valley Syrah'].head(1)"
   ]
  },
  {
   "cell_type": "code",
   "execution_count": 12,
   "id": "574aaaf5",
   "metadata": {},
   "outputs": [
    {
     "name": "stdout",
     "output_type": "stream",
     "text": [
      "Pattern : ['Winery', 'Designation', 'Variety']\n",
      "Encontrados e combinados 7042 registros.\n",
      "\n",
      "Pattern : ['Winery', 'Designation', '']\n",
      "Encontrados e combinados 2861 registros.\n",
      "\n",
      "Pattern : ['Winery', 'Variety', '']\n",
      "Encontrados e combinados 8892 registros.\n",
      "\n",
      "Pattern : ['Winery', 'Variety', 'Designation']\n",
      "Encontrados e combinados 272 registros.\n",
      "\n",
      "Pattern : ['Winery', 'first_appellation', '']\n",
      "Encontrados e combinados 6256 registros.\n",
      "\n",
      "Pattern : ['Winery', 'Variety', 'first_appellation']\n",
      "Encontrados e combinados 176 registros.\n",
      "\n",
      "Pattern : ['Winery', 'first_appellation', 'Variety']\n",
      "Encontrados e combinados 876 registros.\n",
      "\n",
      "Pattern : ['Winery', 'Designation', 'first_appellation']\n",
      "Encontrados e combinados 1310 registros.\n",
      "\n",
      "Pattern : ['Winery', 'first_appellation', 'Designation']\n",
      "Encontrados e combinados 639 registros.\n",
      "\n",
      "Pattern : ['Winery', 'Designation', 'first_variety']\n",
      "Encontrados e combinados 360 registros.\n",
      "\n",
      "Pattern : ['Winery', 'first_variety', 'Designation']\n",
      "Encontrados e combinados 73 registros.\n",
      "\n",
      "Pattern : ['Winery', 'first_variety', '']\n",
      "Encontrados e combinados 549 registros.\n",
      "\n",
      "Pattern : ['Winery', 'first_variety', 'first_appellation']\n",
      "Encontrados e combinados 35 registros.\n",
      "\n",
      "Pattern : ['Winery', 'first_appellation', 'first_variety']\n",
      "Encontrados e combinados 55 registros.\n",
      "\n"
     ]
    }
   ],
   "source": [
    "# Removendo espaços em branco do início e do fim de cada coluna usada\n",
    "winemag['Winery'] = winemag['Winery'].str.strip()\n",
    "winemag['Variety'] = winemag['Variety'].str.strip()\n",
    "winemag['Designation'] = winemag['Designation'].str.strip()\n",
    "winemag['Appellation'] = winemag['Appellation'].str.strip()\n",
    "vivino['full_name'] = vivino['full_name'].str.strip()\n",
    "\n",
    "# Criação de novas colunas com apenas a primeira parte da informação das colunas Appellation e Variety\n",
    "winemag['first_appellation'] = winemag['Appellation'].str.extract(r'([\\w ]+),', expand=False)\n",
    "winemag['first_variety'] = winemag['Variety'].str.extract(r'([\\w ]+),', expand=False)\n",
    "\n",
    "# Definição da lista com os possíveis padrões para identificação do nome dos vinho no dataset da Vivino \n",
    "# a partir dos dados da Wine Enthusiast\n",
    "candidate_patterns = [\n",
    "    ['Winery', 'Designation', 'Variety'],\n",
    "    ['Winery', 'Designation', ''],\n",
    "    ['Winery', 'Variety', ''],\n",
    "    ['Winery', 'Variety', 'Designation'],\n",
    "    ['Winery', 'first_appellation', ''],\n",
    "    ['Winery', 'Variety', 'first_appellation'],\n",
    "    ['Winery', 'first_appellation', 'Variety'],\n",
    "    ['Winery', 'Designation', 'first_appellation'],\n",
    "    ['Winery', 'first_appellation', 'Designation'],\n",
    "    ['Winery', 'Designation', 'first_variety'],\n",
    "    ['Winery', 'first_variety', 'Designation'],\n",
    "    ['Winery', 'first_variety', ''],\n",
    "    ['Winery', 'first_variety', 'first_appellation'],\n",
    "    ['Winery', 'first_appellation', 'first_variety']\n",
    "]\n",
    "red_wines_dfs = []\n",
    "i = 0\n",
    "for cp in candidate_patterns:\n",
    "    if cp[2]:\n",
    "        winemag['candidate'] = winemag.apply(\\\n",
    "                     lambda row: '{} {} {}'.format(row[cp[0]], row[cp[1]], row[cp[2]]) , axis = 1)\n",
    "    else:\n",
    "        winemag['candidate'] = winemag.apply(\\\n",
    "                     lambda row: '{} {}'.format(row[cp[0]], row[cp[1]]) , axis = 1)\n",
    "    red_wines_dfs.append(\\\n",
    "        pd.merge(winemag, vivino,  how='inner', left_on=['candidate','year'], right_on = ['full_name','year']))\n",
    "    # Atualiza dataset Winemag removendo os registro já unificados com Vivino\n",
    "    winemag = winemag[~winemag['Title'].isin(list(red_wines_dfs[i].Title))]\n",
    "    i += 1\n",
    "\n",
    "i = 0\n",
    "for df in red_wines_dfs:\n",
    "    print('Pattern : {}\\nEncontrados e combinados {} registros.\\n'.format(candidate_patterns[i], red_wines_dfs[i].shape[0]))\n",
    "    i += 1"
   ]
  },
  {
   "cell_type": "code",
   "execution_count": 13,
   "id": "9626efc3",
   "metadata": {},
   "outputs": [],
   "source": [
    "# Unificação dos datasets gerados a partir dos padrões identificados\n",
    "red_wines = pd.concat(red_wines_dfs).drop(['candidate', 'first_appellation', 'first_variety'],axis=1)\\\n",
    "                .reset_index() "
   ]
  },
  {
   "cell_type": "code",
   "execution_count": 14,
   "id": "92c6bb9e",
   "metadata": {},
   "outputs": [
    {
     "name": "stdout",
     "output_type": "stream",
     "text": [
      "Número de registros combinados: 29396\n",
      "Percentual de registros combinados: 33.69%\n"
     ]
    }
   ],
   "source": [
    "print('Número de registros combinados: {}'.format(red_wines.shape[0]))\n",
    "print('Percentual de registros combinados: {0:.2%}'.format((red_wines.shape[0]) / 87259))    "
   ]
  },
  {
   "cell_type": "markdown",
   "id": "9a78c67e",
   "metadata": {},
   "source": [
    "### Tratamento de dados omissos\n",
    "- O campo **Alcohol** (Winemag) possui 2.31% dos registros (680) com valor nulo. O campo **alcohol** (Vivino), a uma primeira vista, não possui valores nulos, porém 8.437 registros possuem valor zero; e na verdade são oriundos de valores omissos.\n",
    " - O campo **alcohol** foi usado para preencher os valores omissos de **Alcohol**. Os valores preenchidos com dados inconsistentes (maiores que 23% ou menos que 5.5%) foram substituídos pela média do dataset. \n",
    "   - [5.5% - 23%] - Intervalo de variação para teor alcoólico de vinhos. https://winefolly.com/tips/the-lightest-to-the-strongest-wine/\n",
    "- Os campos **Taster** e **Designation** possuem alguns valores nulos, mas não foram tratados pois não serão usados para a construção dos modelos de aprendizagem."
   ]
  },
  {
   "cell_type": "code",
   "execution_count": 15,
   "id": "c552d3ce",
   "metadata": {},
   "outputs": [
    {
     "name": "stdout",
     "output_type": "stream",
     "text": [
      "Duplicados em todas as colunas:  0\n",
      "Duplicados pelo título:  0\n",
      "Duplicados pelas colunas usadas para identificação:  0\n"
     ]
    }
   ],
   "source": [
    "# Verificando registros duplicados\n",
    "print('Duplicados em todas as colunas: ', red_wines.duplicated().sum())\n",
    "print('Duplicados pelo título: ', red_wines.duplicated(subset=['Title']).sum())\n",
    "print('Duplicados pelas colunas usadas para identificação: ', red_wines.duplicated(subset=['year', 'Winery', 'Appellation', 'Variety', 'Designation']).sum())"
   ]
  },
  {
   "cell_type": "code",
   "execution_count": 16,
   "id": "7bc8c31f",
   "metadata": {},
   "outputs": [
    {
     "data": {
      "text/html": [
       "<div>\n",
       "<style scoped>\n",
       "    .dataframe tbody tr th:only-of-type {\n",
       "        vertical-align: middle;\n",
       "    }\n",
       "\n",
       "    .dataframe tbody tr th {\n",
       "        vertical-align: top;\n",
       "    }\n",
       "\n",
       "    .dataframe thead th {\n",
       "        text-align: right;\n",
       "    }\n",
       "</style>\n",
       "<table border=\"1\" class=\"dataframe\">\n",
       "  <thead>\n",
       "    <tr style=\"text-align: right;\">\n",
       "      <th></th>\n",
       "      <th>percent_missing</th>\n",
       "      <th>rows_missing</th>\n",
       "    </tr>\n",
       "  </thead>\n",
       "  <tbody>\n",
       "    <tr>\n",
       "      <th>Designation</th>\n",
       "      <td>31.136889</td>\n",
       "      <td>9153</td>\n",
       "    </tr>\n",
       "    <tr>\n",
       "      <th>Alcohol</th>\n",
       "      <td>2.313240</td>\n",
       "      <td>680</td>\n",
       "    </tr>\n",
       "    <tr>\n",
       "      <th>Taster</th>\n",
       "      <td>1.183835</td>\n",
       "      <td>348</td>\n",
       "    </tr>\n",
       "    <tr>\n",
       "      <th>index</th>\n",
       "      <td>0.000000</td>\n",
       "      <td>0</td>\n",
       "    </tr>\n",
       "    <tr>\n",
       "      <th>winery</th>\n",
       "      <td>0.000000</td>\n",
       "      <td>0</td>\n",
       "    </tr>\n",
       "    <tr>\n",
       "      <th>vintage_ratings_count</th>\n",
       "      <td>0.000000</td>\n",
       "      <td>0</td>\n",
       "    </tr>\n",
       "    <tr>\n",
       "      <th>vintage_id</th>\n",
       "      <td>0.000000</td>\n",
       "      <td>0</td>\n",
       "    </tr>\n",
       "    <tr>\n",
       "      <th>tannin</th>\n",
       "      <td>0.000000</td>\n",
       "      <td>0</td>\n",
       "    </tr>\n",
       "    <tr>\n",
       "      <th>sweetness</th>\n",
       "      <td>0.000000</td>\n",
       "      <td>0</td>\n",
       "    </tr>\n",
       "    <tr>\n",
       "      <th>intensity</th>\n",
       "      <td>0.000000</td>\n",
       "      <td>0</td>\n",
       "    </tr>\n",
       "    <tr>\n",
       "      <th>acidity</th>\n",
       "      <td>0.000000</td>\n",
       "      <td>0</td>\n",
       "    </tr>\n",
       "    <tr>\n",
       "      <th>alcohol</th>\n",
       "      <td>0.000000</td>\n",
       "      <td>0</td>\n",
       "    </tr>\n",
       "    <tr>\n",
       "      <th>ratings_average</th>\n",
       "      <td>0.000000</td>\n",
       "      <td>0</td>\n",
       "    </tr>\n",
       "    <tr>\n",
       "      <th>ratings_count</th>\n",
       "      <td>0.000000</td>\n",
       "      <td>0</td>\n",
       "    </tr>\n",
       "    <tr>\n",
       "      <th>country</th>\n",
       "      <td>0.000000</td>\n",
       "      <td>0</td>\n",
       "    </tr>\n",
       "    <tr>\n",
       "      <th>winery_region</th>\n",
       "      <td>0.000000</td>\n",
       "      <td>0</td>\n",
       "    </tr>\n",
       "    <tr>\n",
       "      <th>name</th>\n",
       "      <td>0.000000</td>\n",
       "      <td>0</td>\n",
       "    </tr>\n",
       "    <tr>\n",
       "      <th>wine_region</th>\n",
       "      <td>0.000000</td>\n",
       "      <td>0</td>\n",
       "    </tr>\n",
       "    <tr>\n",
       "      <th>Title</th>\n",
       "      <td>0.000000</td>\n",
       "      <td>0</td>\n",
       "    </tr>\n",
       "    <tr>\n",
       "      <th>full_name</th>\n",
       "      <td>0.000000</td>\n",
       "      <td>0</td>\n",
       "    </tr>\n",
       "    <tr>\n",
       "      <th>id</th>\n",
       "      <td>0.000000</td>\n",
       "      <td>0</td>\n",
       "    </tr>\n",
       "    <tr>\n",
       "      <th>year</th>\n",
       "      <td>0.000000</td>\n",
       "      <td>0</td>\n",
       "    </tr>\n",
       "    <tr>\n",
       "      <th>Bottle Size</th>\n",
       "      <td>0.000000</td>\n",
       "      <td>0</td>\n",
       "    </tr>\n",
       "    <tr>\n",
       "      <th>Winery</th>\n",
       "      <td>0.000000</td>\n",
       "      <td>0</td>\n",
       "    </tr>\n",
       "    <tr>\n",
       "      <th>Appellation</th>\n",
       "      <td>0.000000</td>\n",
       "      <td>0</td>\n",
       "    </tr>\n",
       "    <tr>\n",
       "      <th>Variety</th>\n",
       "      <td>0.000000</td>\n",
       "      <td>0</td>\n",
       "    </tr>\n",
       "    <tr>\n",
       "      <th>Price</th>\n",
       "      <td>0.000000</td>\n",
       "      <td>0</td>\n",
       "    </tr>\n",
       "    <tr>\n",
       "      <th>Rating</th>\n",
       "      <td>0.000000</td>\n",
       "      <td>0</td>\n",
       "    </tr>\n",
       "    <tr>\n",
       "      <th>Description</th>\n",
       "      <td>0.000000</td>\n",
       "      <td>0</td>\n",
       "    </tr>\n",
       "    <tr>\n",
       "      <th>vintage_ratings_average</th>\n",
       "      <td>0.000000</td>\n",
       "      <td>0</td>\n",
       "    </tr>\n",
       "  </tbody>\n",
       "</table>\n",
       "</div>"
      ],
      "text/plain": [
       "                         percent_missing  rows_missing\n",
       "Designation                    31.136889          9153\n",
       "Alcohol                         2.313240           680\n",
       "Taster                          1.183835           348\n",
       "index                           0.000000             0\n",
       "winery                          0.000000             0\n",
       "vintage_ratings_count           0.000000             0\n",
       "vintage_id                      0.000000             0\n",
       "tannin                          0.000000             0\n",
       "sweetness                       0.000000             0\n",
       "intensity                       0.000000             0\n",
       "acidity                         0.000000             0\n",
       "alcohol                         0.000000             0\n",
       "ratings_average                 0.000000             0\n",
       "ratings_count                   0.000000             0\n",
       "country                         0.000000             0\n",
       "winery_region                   0.000000             0\n",
       "name                            0.000000             0\n",
       "wine_region                     0.000000             0\n",
       "Title                           0.000000             0\n",
       "full_name                       0.000000             0\n",
       "id                              0.000000             0\n",
       "year                            0.000000             0\n",
       "Bottle Size                     0.000000             0\n",
       "Winery                          0.000000             0\n",
       "Appellation                     0.000000             0\n",
       "Variety                         0.000000             0\n",
       "Price                           0.000000             0\n",
       "Rating                          0.000000             0\n",
       "Description                     0.000000             0\n",
       "vintage_ratings_average         0.000000             0"
      ]
     },
     "execution_count": 16,
     "metadata": {},
     "output_type": "execute_result"
    }
   ],
   "source": [
    "# Verificando registros omissos\n",
    "values_missing(red_wines, only_missing=False)"
   ]
  },
  {
   "cell_type": "code",
   "execution_count": 17,
   "id": "da8a6b47",
   "metadata": {},
   "outputs": [
    {
     "data": {
      "text/plain": [
       "8436"
      ]
     },
     "execution_count": 17,
     "metadata": {},
     "output_type": "execute_result"
    }
   ],
   "source": [
    "(red_wines['alcohol'] == 0).sum()"
   ]
  },
  {
   "cell_type": "code",
   "execution_count": 18,
   "id": "e6a1d516",
   "metadata": {},
   "outputs": [],
   "source": [
    "# Preenche valores omissos de Alcohol com os dados de alcohol \n",
    "# e substituí valores inconsistentes (menores que 5.5% ou maiores que 23%) pela média\n",
    "alcohol = red_wines.apply(lambda x: x['alcohol'] if pd.isnull(x['Alcohol']) else x['Alcohol'], axis=1).\\\n",
    "    apply(lambda x: x if (x >= 5.5) and (x <= 23) else np.nan)\n",
    "red_wines['Alcohol'] = alcohol.fillna(alcohol.mean())"
   ]
  },
  {
   "cell_type": "code",
   "execution_count": 19,
   "id": "2292b53d",
   "metadata": {},
   "outputs": [
    {
     "data": {
      "text/plain": [
       "count    29396.000000\n",
       "mean        14.087464\n",
       "std          0.685622\n",
       "min          8.500000\n",
       "25%         13.500000\n",
       "50%         14.087464\n",
       "75%         14.500000\n",
       "max         17.400000\n",
       "Name: Alcohol, dtype: float64"
      ]
     },
     "execution_count": 19,
     "metadata": {},
     "output_type": "execute_result"
    }
   ],
   "source": [
    "red_wines['Alcohol'].describe()"
   ]
  },
  {
   "cell_type": "markdown",
   "id": "3d521ce5",
   "metadata": {},
   "source": [
    "### Correções e transformações nos dados\n",
    " - Criação da coluna **continent** aplicando a função *country_to_continent*. Sintetizei a informação do páis, criando a coluna com informação do continente, com o intuito de ter dados mais generalizados para uso nos modelos. Percebeu-se ao analisar a média por país e a média continental da avaliação do vinho que os valores por país em cada continente são relativamente semelhantes."
   ]
  },
  {
   "cell_type": "code",
   "execution_count": 20,
   "id": "b9d9f6d5",
   "metadata": {},
   "outputs": [
    {
     "name": "stdout",
     "output_type": "stream",
     "text": [
      "United States    14207\n",
      "Italy             6686\n",
      "France            2610\n",
      "Spain             1153\n",
      "Argentina         1089\n",
      "Australia          893\n",
      "Chile              817\n",
      "Portugal           637\n",
      "New Zealand        418\n",
      "South Africa       295\n",
      "Austria            246\n",
      "Israel             100\n",
      "Germany             79\n",
      "Uruguay             70\n",
      "Canada              65\n",
      "Brazil              16\n",
      "Greece              10\n",
      "Switzerland          4\n",
      "Hungary              1\n",
      "Name: country, dtype: int64\n",
      "\n",
      " country\n",
      "Argentina        87.960514\n",
      "Australia        89.866741\n",
      "Austria          91.191057\n",
      "Brazil           83.687500\n",
      "Canada           89.215385\n",
      "Chile            87.348837\n",
      "France           89.175479\n",
      "Germany          91.696203\n",
      "Greece           88.400000\n",
      "Hungary          89.000000\n",
      "Israel           90.050000\n",
      "Italy            90.016452\n",
      "New Zealand      89.241627\n",
      "Portugal         90.100471\n",
      "South Africa     89.979661\n",
      "Spain            88.583695\n",
      "Switzerland      89.500000\n",
      "United States    90.073837\n",
      "Uruguay          87.857143\n",
      "Name: Rating, dtype: float64\n"
     ]
    }
   ],
   "source": [
    "print(red_wines.country.value_counts())\n",
    "print('\\n', red_wines.groupby('country')['Rating'].mean())"
   ]
  },
  {
   "cell_type": "code",
   "execution_count": 21,
   "id": "ef6ee63d",
   "metadata": {},
   "outputs": [],
   "source": [
    "def country_to_continent(country):\n",
    "    '''Retorna o continente a partir do nome do país'''\n",
    "    south_america = ['Argentina', 'Brazil', 'Chile', 'Uruguay']\n",
    "    north_america = ['Canada', 'United States']\n",
    "    oceania = ['Australia', 'New Zealand']\n",
    "    africa = ['South Africa']\n",
    "    asia = ['Israel']\n",
    "    if country in south_america:\n",
    "        return 'South America'\n",
    "    elif country in north_america:\n",
    "        return 'North America'\n",
    "    elif country in oceania:\n",
    "        return 'Oceania'\n",
    "    elif country in africa:\n",
    "        return 'Africa'\n",
    "    elif country in asia:\n",
    "        return 'Asia'\n",
    "    else:\n",
    "        return 'Europe'"
   ]
  },
  {
   "cell_type": "code",
   "execution_count": 22,
   "id": "e176e25f",
   "metadata": {},
   "outputs": [],
   "source": [
    "red_wines['continent'] = red_wines['country'].apply(country_to_continent)"
   ]
  },
  {
   "cell_type": "code",
   "execution_count": 23,
   "id": "a72a8068",
   "metadata": {},
   "outputs": [
    {
     "data": {
      "text/plain": [
       "continent\n",
       "Africa           89.979661\n",
       "Asia             90.050000\n",
       "Europe           89.719674\n",
       "North America    90.069927\n",
       "Oceania          89.667429\n",
       "South America    87.671687\n",
       "Name: Rating, dtype: float64"
      ]
     },
     "execution_count": 23,
     "metadata": {},
     "output_type": "execute_result"
    }
   ],
   "source": [
    "red_wines.groupby('continent')['Rating'].mean()"
   ]
  },
  {
   "cell_type": "markdown",
   "id": "85356148",
   "metadata": {},
   "source": [
    "- Criacão das colunas **popular_wine** e **popular_vintage** a partir dos campos **ratings_count** e **vinage_ratings_count**, a fim de representar se determinado vinho e safra, respectivamente, são populares (popular definido como sendo número de avaliações maior do que a média)."
   ]
  },
  {
   "cell_type": "code",
   "execution_count": 24,
   "id": "f1538204",
   "metadata": {},
   "outputs": [],
   "source": [
    "red_wines['popular_wine'] = red_wines['ratings_count'].apply(\\\n",
    "                                lambda x: 1 if (x >= red_wines['ratings_count'].mean()) else 0)\n",
    "red_wines['popular_vintage'] = red_wines['vintage_ratings_count'].apply(\\\n",
    "                                lambda x: 1 if (x >= red_wines['vintage_ratings_count'].mean()) else 0)"
   ]
  },
  {
   "cell_type": "markdown",
   "id": "e3597594",
   "metadata": {},
   "source": [
    "- Criação da coluna **rating_group** com base no valor de Rating agrupado de acordo com o guia de interpretação da nota publicado no site da Wine Enthusiast. <br><br>\n",
    " \n",
    "- Grupo **0** --> 98–100: Classic \"The pinnacle of quality\"\n",
    "- Grupo **1** --> 94–97: Superb \"A great achievement\" \n",
    "- Grupo **2** --> 90–93: Excellent \"Highly recommended\"\n",
    "- Grupo **3** --> 87–89: Very Good \"Often good value; well recommended\"\n",
    "- Grupo **4** --> 83–86: Good \"Suitable for everyday consumption; often good value\"\n",
    "- Grupo **5** --> 80–82: Acceptable \"Can be employed in casual, less-critical circumstances\"\n",
    "<br>\n",
    "https://www.winemag.com/our-buying-guide-and-blind-tasting-process/"
   ]
  },
  {
   "cell_type": "code",
   "execution_count": 25,
   "id": "16cc749e",
   "metadata": {},
   "outputs": [],
   "source": [
    "# Conversão de ratings para rating group\n",
    "\n",
    "def ratings_to_group(rating):\n",
    "    if rating in range(80,83):\n",
    "        return 0\n",
    "    elif rating in range(83,87):\n",
    "        return 1\n",
    "    elif rating in range(87,90):\n",
    "        return 2\n",
    "    elif rating in range(90,94):\n",
    "        return 3\n",
    "    elif rating in range(94,98):\n",
    "        return 4\n",
    "    else:\n",
    "        return 5\n",
    "    \n",
    "red_wines['rating_group'] = red_wines['Rating'].apply(ratings_to_group)"
   ]
  },
  {
   "cell_type": "markdown",
   "id": "3bc623c9",
   "metadata": {},
   "source": [
    "### Remoção de colunas\n",
    "- Os seguintes campos foram removidas do dataset pelos motivos abaixo:\n",
    " - Campos de identificação do vinho/safra: **index**, **id**, **vintage_id** e **Title**.\n",
    " - Campos com informações textuais do vinho e do review que não serão transformadas em categorias: **Taster**, **name**, **wine_region**, **winery** e **winery_region**.\n",
    " - Campos usados para unificação dos datasets: **Designation**, **Variety**, **Appellation**, **Winery**, **full_name** e **year**.\n",
    " - Campos usados em transformações de outros valores: **Bottle Size**, **alcohol**, **ratings_count**, **vintage_ratings_count**, **country** e **Rating**."
   ]
  },
  {
   "cell_type": "code",
   "execution_count": 26,
   "id": "3ed61ba8",
   "metadata": {},
   "outputs": [],
   "source": [
    "red_wines.drop(\n",
    "    ['index', 'id', 'vintage_id', 'Title',\n",
    "     'Taster', 'name','wine_region', 'winery', 'winery_region',\n",
    "     'Designation', 'Variety', 'Appellation', 'Winery', 'full_name', 'year',\n",
    "     'Bottle Size', 'alcohol', 'country', 'ratings_count','vintage_ratings_count', 'Rating'], \n",
    "    axis = 1, inplace=True\n",
    ")"
   ]
  },
  {
   "cell_type": "markdown",
   "id": "9e62ceb0",
   "metadata": {},
   "source": [
    "### Exportação do dataset"
   ]
  },
  {
   "cell_type": "code",
   "execution_count": 27,
   "id": "5a4bf1c2",
   "metadata": {},
   "outputs": [],
   "source": [
    "# Exporta o dataset para arquivo csv após o tratamento dado\n",
    "#red_wines.to_csv('datasets/red_wines.csv', index=False, header=True)"
   ]
  },
  {
   "cell_type": "code",
   "execution_count": 28,
   "id": "d6f2689d",
   "metadata": {
    "scrolled": true
   },
   "outputs": [
    {
     "name": "stdout",
     "output_type": "stream",
     "text": [
      "<class 'pandas.core.frame.DataFrame'>\n",
      "RangeIndex: 29396 entries, 0 to 29395\n",
      "Data columns (total 13 columns):\n",
      " #   Column                   Non-Null Count  Dtype  \n",
      "---  ------                   --------------  -----  \n",
      " 0   Description              29396 non-null  object \n",
      " 1   Price                    29396 non-null  float64\n",
      " 2   Alcohol                  29396 non-null  float64\n",
      " 3   ratings_average          29396 non-null  float64\n",
      " 4   acidity                  29396 non-null  float64\n",
      " 5   intensity                29396 non-null  float64\n",
      " 6   sweetness                29396 non-null  float64\n",
      " 7   tannin                   29396 non-null  float64\n",
      " 8   vintage_ratings_average  29396 non-null  float64\n",
      " 9   continent                29396 non-null  object \n",
      " 10  popular_wine             29396 non-null  int64  \n",
      " 11  popular_vintage          29396 non-null  int64  \n",
      " 12  rating_group             29396 non-null  int64  \n",
      "dtypes: float64(8), int64(3), object(2)\n",
      "memory usage: 2.9+ MB\n"
     ]
    }
   ],
   "source": [
    "red_wines.info()"
   ]
  }
 ],
 "metadata": {
  "kernelspec": {
   "display_name": "Python 3",
   "language": "python",
   "name": "python3"
  },
  "language_info": {
   "codemirror_mode": {
    "name": "ipython",
    "version": 3
   },
   "file_extension": ".py",
   "mimetype": "text/x-python",
   "name": "python",
   "nbconvert_exporter": "python",
   "pygments_lexer": "ipython3",
   "version": "3.8.8"
  }
 },
 "nbformat": 4,
 "nbformat_minor": 5
}
