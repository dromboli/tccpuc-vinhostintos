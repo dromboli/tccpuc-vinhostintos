{
 "cells": [
  {
   "cell_type": "markdown",
   "id": "4d456102",
   "metadata": {},
   "source": [
    "### Importação de Pacotes"
   ]
  },
  {
   "cell_type": "code",
   "execution_count": 1,
   "id": "ca3fb327",
   "metadata": {},
   "outputs": [],
   "source": [
    "import pandas as pd\n",
    "import numpy as np\n",
    "import matplotlib.pyplot as plt\n",
    "import seaborn as sns"
   ]
  },
  {
   "cell_type": "markdown",
   "id": "ee63ff3b",
   "metadata": {},
   "source": [
    "### Importação do Dataset"
   ]
  },
  {
   "cell_type": "code",
   "execution_count": 2,
   "id": "24f5eb99",
   "metadata": {},
   "outputs": [],
   "source": [
    "red_wines = pd.read_csv('datasets/red_wines.csv')"
   ]
  },
  {
   "cell_type": "code",
   "execution_count": 3,
   "id": "bf1af285",
   "metadata": {},
   "outputs": [
    {
     "data": {
      "text/html": [
       "<div>\n",
       "<style scoped>\n",
       "    .dataframe tbody tr th:only-of-type {\n",
       "        vertical-align: middle;\n",
       "    }\n",
       "\n",
       "    .dataframe tbody tr th {\n",
       "        vertical-align: top;\n",
       "    }\n",
       "\n",
       "    .dataframe thead th {\n",
       "        text-align: right;\n",
       "    }\n",
       "</style>\n",
       "<table border=\"1\" class=\"dataframe\">\n",
       "  <thead>\n",
       "    <tr style=\"text-align: right;\">\n",
       "      <th></th>\n",
       "      <th>Description</th>\n",
       "      <th>Price</th>\n",
       "      <th>Alcohol</th>\n",
       "      <th>ratings_average</th>\n",
       "      <th>acidity</th>\n",
       "      <th>intensity</th>\n",
       "      <th>sweetness</th>\n",
       "      <th>tannin</th>\n",
       "      <th>vintage_ratings_average</th>\n",
       "      <th>continent</th>\n",
       "      <th>popular_wine</th>\n",
       "      <th>popular_vintage</th>\n",
       "      <th>rating_group</th>\n",
       "    </tr>\n",
       "  </thead>\n",
       "  <tbody>\n",
       "    <tr>\n",
       "      <th>0</th>\n",
       "      <td>This is a soft, richly layered and concentrate...</td>\n",
       "      <td>85.0</td>\n",
       "      <td>14.5</td>\n",
       "      <td>4.3</td>\n",
       "      <td>3.468246</td>\n",
       "      <td>3.143860</td>\n",
       "      <td>1.546160</td>\n",
       "      <td>2.078285</td>\n",
       "      <td>4.4</td>\n",
       "      <td>North America</td>\n",
       "      <td>0</td>\n",
       "      <td>0</td>\n",
       "      <td>4</td>\n",
       "    </tr>\n",
       "    <tr>\n",
       "      <th>1</th>\n",
       "      <td>A strong showing of black cherry and licorice ...</td>\n",
       "      <td>125.0</td>\n",
       "      <td>14.5</td>\n",
       "      <td>4.5</td>\n",
       "      <td>3.344858</td>\n",
       "      <td>4.749089</td>\n",
       "      <td>1.611013</td>\n",
       "      <td>3.312963</td>\n",
       "      <td>4.5</td>\n",
       "      <td>North America</td>\n",
       "      <td>1</td>\n",
       "      <td>0</td>\n",
       "      <td>4</td>\n",
       "    </tr>\n",
       "    <tr>\n",
       "      <th>2</th>\n",
       "      <td>This blended cuvée features the same attention...</td>\n",
       "      <td>52.0</td>\n",
       "      <td>14.2</td>\n",
       "      <td>4.2</td>\n",
       "      <td>3.883377</td>\n",
       "      <td>2.235860</td>\n",
       "      <td>1.453785</td>\n",
       "      <td>2.130269</td>\n",
       "      <td>4.2</td>\n",
       "      <td>North America</td>\n",
       "      <td>1</td>\n",
       "      <td>0</td>\n",
       "      <td>3</td>\n",
       "    </tr>\n",
       "    <tr>\n",
       "      <th>3</th>\n",
       "      <td>This stands apart from the other estate Pinots...</td>\n",
       "      <td>95.0</td>\n",
       "      <td>14.5</td>\n",
       "      <td>4.4</td>\n",
       "      <td>3.887788</td>\n",
       "      <td>2.400275</td>\n",
       "      <td>1.558072</td>\n",
       "      <td>2.328298</td>\n",
       "      <td>4.4</td>\n",
       "      <td>North America</td>\n",
       "      <td>0</td>\n",
       "      <td>0</td>\n",
       "      <td>3</td>\n",
       "    </tr>\n",
       "    <tr>\n",
       "      <th>4</th>\n",
       "      <td>This wine impresses immediately with its flavo...</td>\n",
       "      <td>100.0</td>\n",
       "      <td>14.4</td>\n",
       "      <td>4.3</td>\n",
       "      <td>3.627241</td>\n",
       "      <td>2.472972</td>\n",
       "      <td>1.557877</td>\n",
       "      <td>2.073915</td>\n",
       "      <td>4.5</td>\n",
       "      <td>North America</td>\n",
       "      <td>0</td>\n",
       "      <td>0</td>\n",
       "      <td>3</td>\n",
       "    </tr>\n",
       "  </tbody>\n",
       "</table>\n",
       "</div>"
      ],
      "text/plain": [
       "                                         Description  Price  Alcohol  \\\n",
       "0  This is a soft, richly layered and concentrate...   85.0     14.5   \n",
       "1  A strong showing of black cherry and licorice ...  125.0     14.5   \n",
       "2  This blended cuvée features the same attention...   52.0     14.2   \n",
       "3  This stands apart from the other estate Pinots...   95.0     14.5   \n",
       "4  This wine impresses immediately with its flavo...  100.0     14.4   \n",
       "\n",
       "   ratings_average   acidity  intensity  sweetness    tannin  \\\n",
       "0              4.3  3.468246   3.143860   1.546160  2.078285   \n",
       "1              4.5  3.344858   4.749089   1.611013  3.312963   \n",
       "2              4.2  3.883377   2.235860   1.453785  2.130269   \n",
       "3              4.4  3.887788   2.400275   1.558072  2.328298   \n",
       "4              4.3  3.627241   2.472972   1.557877  2.073915   \n",
       "\n",
       "   vintage_ratings_average      continent  popular_wine  popular_vintage  \\\n",
       "0                      4.4  North America             0                0   \n",
       "1                      4.5  North America             1                0   \n",
       "2                      4.2  North America             1                0   \n",
       "3                      4.4  North America             0                0   \n",
       "4                      4.5  North America             0                0   \n",
       "\n",
       "   rating_group  \n",
       "0             4  \n",
       "1             4  \n",
       "2             3  \n",
       "3             3  \n",
       "4             3  "
      ]
     },
     "execution_count": 3,
     "metadata": {},
     "output_type": "execute_result"
    }
   ],
   "source": [
    "red_wines.head(5)"
   ]
  },
  {
   "cell_type": "markdown",
   "id": "c2c53ca0",
   "metadata": {},
   "source": [
    "### Preprocessing\n",
    " 1. Criação de dummies para o campo **continent**.\n",
    " 2. Separação dos datasets entre treinamento e teste (train_test_split)\n",
    " 3. Normalização dos valores usando StandardScaler"
   ]
  },
  {
   "cell_type": "code",
   "execution_count": 4,
   "id": "af2b5e6e",
   "metadata": {},
   "outputs": [],
   "source": [
    "# 1\n",
    "dummies = pd.get_dummies(red_wines['continent'], drop_first=True)\n",
    "red_wines = pd.concat([red_wines, dummies], axis=1).drop('continent', axis=1)"
   ]
  },
  {
   "cell_type": "code",
   "execution_count": 5,
   "id": "be832d82",
   "metadata": {},
   "outputs": [],
   "source": [
    "# 2\n",
    "from sklearn.feature_extraction.text import TfidfVectorizer\n",
    "\n",
    "vectorizer = TfidfVectorizer(stop_words='english')\n",
    "description_vectorizer = vectorizer.fit_transform(red_wines['Description'])\n",
    "descriptions = pd.DataFrame(description_vectorizer.toarray())\n",
    "\n",
    "red_wines = pd.concat([red_wines, descriptions], axis=1).drop('Description', axis=1)"
   ]
  },
  {
   "cell_type": "code",
   "execution_count": 6,
   "id": "dd784829",
   "metadata": {},
   "outputs": [],
   "source": [
    "# 3\n",
    "X = red_wines.drop('rating_group', axis=1)\n",
    "y = red_wines['rating_group']"
   ]
  },
  {
   "cell_type": "code",
   "execution_count": 7,
   "id": "916fe31d",
   "metadata": {},
   "outputs": [
    {
     "name": "stderr",
     "output_type": "stream",
     "text": [
      "C:\\Users\\HAL9000\\anaconda3\\lib\\site-packages\\pandas\\core\\indexing.py:1738: SettingWithCopyWarning: \n",
      "A value is trying to be set on a copy of a slice from a DataFrame.\n",
      "Try using .loc[row_indexer,col_indexer] = value instead\n",
      "\n",
      "See the caveats in the documentation: https://pandas.pydata.org/pandas-docs/stable/user_guide/indexing.html#returning-a-view-versus-a-copy\n",
      "  self._setitem_single_column(loc, value[:, i].tolist(), pi)\n",
      "C:\\Users\\HAL9000\\anaconda3\\lib\\site-packages\\pandas\\core\\indexing.py:1738: SettingWithCopyWarning: \n",
      "A value is trying to be set on a copy of a slice from a DataFrame.\n",
      "Try using .loc[row_indexer,col_indexer] = value instead\n",
      "\n",
      "See the caveats in the documentation: https://pandas.pydata.org/pandas-docs/stable/user_guide/indexing.html#returning-a-view-versus-a-copy\n",
      "  self._setitem_single_column(loc, value[:, i].tolist(), pi)\n"
     ]
    }
   ],
   "source": [
    "# 4\n",
    "from sklearn.model_selection import train_test_split\n",
    "from sklearn.preprocessing import StandardScaler\n",
    "\n",
    "X_train, X_test, y_train, y_test = train_test_split(X, y, test_size=0.3, random_state=42)\n",
    "\n",
    "scaler = StandardScaler()\n",
    "scaled_columns =['Price', 'Alcohol', 'ratings_average', 'acidity', 'intensity', 'sweetness',\n",
    "                  'tannin', 'vintage_ratings_average']\n",
    "X_train.loc[:, scaled_columns]= scaler.fit_transform(X_train.loc[:, scaled_columns])\n",
    "X_test.loc[:, scaled_columns] = scaler.transform(X_test.loc[:, scaled_columns])"
   ]
  },
  {
   "cell_type": "markdown",
   "id": "ac55fa53",
   "metadata": {},
   "source": [
    "### Random Forest Model"
   ]
  },
  {
   "cell_type": "code",
   "execution_count": 8,
   "id": "ca4e38dc",
   "metadata": {},
   "outputs": [],
   "source": [
    "from sklearn.ensemble import RandomForestClassifier\n",
    "base_model = RandomForestClassifier()\n"
   ]
  },
  {
   "cell_type": "markdown",
   "id": "0163245a",
   "metadata": {},
   "source": [
    "#### GridSearch - busca pelos melhores hiperparâmetros"
   ]
  },
  {
   "cell_type": "code",
   "execution_count": 9,
   "id": "4cc6a6a7",
   "metadata": {},
   "outputs": [],
   "source": [
    "# Parâmetros\n",
    "n_estimators = [10, 100, 1000]\n",
    "max_features = ['sqrt', 'log2']\n",
    "\n",
    "param_grid = dict(n_estimators=n_estimators, max_features=max_features)"
   ]
  },
  {
   "cell_type": "code",
   "execution_count": 10,
   "id": "8f905f6b",
   "metadata": {
    "scrolled": true
   },
   "outputs": [
    {
     "name": "stdout",
     "output_type": "stream",
     "text": [
      "Fitting 5 folds for each of 6 candidates, totalling 30 fits\n",
      "[CV 1/5] END .............max_features=sqrt, n_estimators=10; total time=  47.1s\n",
      "[CV 2/5] END .............max_features=sqrt, n_estimators=10; total time=  33.9s\n",
      "[CV 3/5] END .............max_features=sqrt, n_estimators=10; total time=  32.3s\n",
      "[CV 4/5] END .............max_features=sqrt, n_estimators=10; total time=  33.1s\n",
      "[CV 5/5] END .............max_features=sqrt, n_estimators=10; total time=  34.3s\n",
      "[CV 1/5] END ............max_features=sqrt, n_estimators=100; total time= 4.0min\n",
      "[CV 2/5] END ............max_features=sqrt, n_estimators=100; total time= 4.0min\n",
      "[CV 3/5] END ............max_features=sqrt, n_estimators=100; total time= 4.1min\n",
      "[CV 4/5] END ............max_features=sqrt, n_estimators=100; total time= 4.1min\n",
      "[CV 5/5] END ............max_features=sqrt, n_estimators=100; total time= 3.8min\n",
      "[CV 1/5] END ...........max_features=sqrt, n_estimators=1000; total time=37.3min\n",
      "[CV 2/5] END ...........max_features=sqrt, n_estimators=1000; total time=35.8min\n",
      "[CV 3/5] END ...........max_features=sqrt, n_estimators=1000; total time=25.7min\n",
      "[CV 4/5] END ...........max_features=sqrt, n_estimators=1000; total time=13.7min\n",
      "[CV 5/5] END ...........max_features=sqrt, n_estimators=1000; total time=14.4min\n",
      "[CV 1/5] END .............max_features=log2, n_estimators=10; total time=  45.2s\n",
      "[CV 2/5] END .............max_features=log2, n_estimators=10; total time=  25.8s\n",
      "[CV 3/5] END .............max_features=log2, n_estimators=10; total time=  21.6s\n",
      "[CV 4/5] END .............max_features=log2, n_estimators=10; total time=  20.3s\n",
      "[CV 5/5] END .............max_features=log2, n_estimators=10; total time=  18.3s\n",
      "[CV 1/5] END ............max_features=log2, n_estimators=100; total time= 1.6min\n",
      "[CV 2/5] END ............max_features=log2, n_estimators=100; total time= 1.7min\n",
      "[CV 3/5] END ............max_features=log2, n_estimators=100; total time= 1.7min\n",
      "[CV 4/5] END ............max_features=log2, n_estimators=100; total time= 1.8min\n",
      "[CV 5/5] END ............max_features=log2, n_estimators=100; total time= 1.9min\n",
      "[CV 1/5] END ...........max_features=log2, n_estimators=1000; total time=18.1min\n",
      "[CV 2/5] END ...........max_features=log2, n_estimators=1000; total time=16.7min\n",
      "[CV 3/5] END ...........max_features=log2, n_estimators=1000; total time=18.7min\n",
      "[CV 4/5] END ...........max_features=log2, n_estimators=1000; total time=18.8min\n",
      "[CV 5/5] END ...........max_features=log2, n_estimators=1000; total time=18.2min\n"
     ]
    },
    {
     "data": {
      "text/plain": [
       "GridSearchCV(estimator=RandomForestClassifier(),\n",
       "             param_grid={'max_features': ['sqrt', 'log2'],\n",
       "                         'n_estimators': [10, 100, 1000]},\n",
       "             verbose=4)"
      ]
     },
     "execution_count": 10,
     "metadata": {},
     "output_type": "execute_result"
    }
   ],
   "source": [
    "from sklearn.model_selection import GridSearchCV\n",
    "\n",
    "randomforest_model = GridSearchCV(base_model,param_grid=param_grid, verbose=4)\n",
    "randomforest_model.fit(X_train, y_train)"
   ]
  },
  {
   "cell_type": "code",
   "execution_count": 11,
   "id": "be5f3046",
   "metadata": {},
   "outputs": [
    {
     "data": {
      "text/plain": [
       "{'max_features': 'sqrt', 'n_estimators': 1000}"
      ]
     },
     "execution_count": 11,
     "metadata": {},
     "output_type": "execute_result"
    }
   ],
   "source": [
    "randomforest_model.best_params_"
   ]
  },
  {
   "cell_type": "code",
   "execution_count": 12,
   "id": "2762267b",
   "metadata": {},
   "outputs": [
    {
     "name": "stdout",
     "output_type": "stream",
     "text": [
      "Best: 0.6372168829343922 using {'max_features': 'sqrt', 'n_estimators': 1000}\n",
      "0.5855573189178467 (0.010380554885333692) with: {'max_features': 'sqrt', 'n_estimators': 10}\n",
      "0.6328430556391973 (0.00570575138375081) with: {'max_features': 'sqrt', 'n_estimators': 100}\n",
      "0.6372168829343922 (0.007984726923916892) with: {'max_features': 'sqrt', 'n_estimators': 1000}\n",
      "0.561306710498815 (0.00410273488665441) with: {'max_features': 'log2', 'n_estimators': 10}\n",
      "0.6195758483917782 (0.006161340983301477) with: {'max_features': 'log2', 'n_estimators': 100}\n",
      "0.6275458247871272 (0.005630549189537193) with: {'max_features': 'log2', 'n_estimators': 1000}\n"
     ]
    }
   ],
   "source": [
    "# Resultados\n",
    "print(\"Best: {} using {}\".format(randomforest_model.best_score_, randomforest_model.best_params_))\n",
    "means = randomforest_model.cv_results_['mean_test_score']\n",
    "stds = randomforest_model.cv_results_['std_test_score']\n",
    "params = randomforest_model.cv_results_['params']\n",
    "for mean, stdev, param in zip(means, stds, params):\n",
    "    print(\"{} ({}) with: {}\".format(mean, stdev, param))"
   ]
  },
  {
   "cell_type": "markdown",
   "id": "5e776311",
   "metadata": {},
   "source": [
    "#### Avaliação do modelo"
   ]
  },
  {
   "cell_type": "code",
   "execution_count": 13,
   "id": "8bb32a9e",
   "metadata": {
    "scrolled": true
   },
   "outputs": [
    {
     "name": "stdout",
     "output_type": "stream",
     "text": [
      "Acurácia (treinamento): 1.0\n",
      "Acurácia (teste): 0.6555164984692142\n"
     ]
    }
   ],
   "source": [
    "y_pred = randomforest_model.predict(X_test)\n",
    "\n",
    "from sklearn.metrics import accuracy_score, classification_report, plot_confusion_matrix\n",
    "train_acc = accuracy_score(y_train, randomforest_model.predict(X_train))\n",
    "test_acc = accuracy_score(y_test, y_pred)\n",
    "print('Acurácia (treinamento): {}'.format(train_acc))\n",
    "print('Acurácia (teste): {}'.format(test_acc))"
   ]
  },
  {
   "cell_type": "code",
   "execution_count": 18,
   "id": "f81ac290",
   "metadata": {},
   "outputs": [
    {
     "data": {
      "text/plain": [
       "Text(0.5, 1.0, 'Matriz de confusão - Random Forest Model')"
      ]
     },
     "execution_count": 18,
     "metadata": {},
     "output_type": "execute_result"
    },
    {
     "data": {
      "image/png": "[encoded data removed]",
      "text/plain": [
       "<Figure size 576x432 with 2 Axes>"
      ]
     },
     "metadata": {
      "needs_background": "light"
     },
     "output_type": "display_data"
    }
   ],
   "source": [
    "# Gráfico de matriz de confusão\n",
    "fig, ax = plt.subplots(figsize=(8, 6))\n",
    "plot_confusion_matrix(randomforest_model, X_test,y_test, ax=ax)\n",
    "plt.title('Matriz de confusão - Random Forest Model')"
   ]
  },
  {
   "cell_type": "code",
   "execution_count": 19,
   "id": "a71d609f",
   "metadata": {
    "scrolled": true
   },
   "outputs": [
    {
     "name": "stdout",
     "output_type": "stream",
     "text": [
      "              precision    recall  f1-score   support\n",
      "\n",
      "           0       0.00      0.00      0.00        51\n",
      "           1       0.75      0.28      0.40      1116\n",
      "           2       0.62      0.66      0.64      2793\n",
      "           3       0.66      0.89      0.76      4006\n",
      "           4       0.70      0.09      0.16       823\n",
      "           5       0.00      0.00      0.00        30\n",
      "\n",
      "    accuracy                           0.66      8819\n",
      "   macro avg       0.46      0.32      0.33      8819\n",
      "weighted avg       0.66      0.66      0.61      8819\n",
      "\n"
     ]
    },
    {
     "name": "stderr",
     "output_type": "stream",
     "text": [
      "C:\\Users\\HAL9000\\anaconda3\\lib\\site-packages\\sklearn\\metrics\\_classification.py:1245: UndefinedMetricWarning: Precision and F-score are ill-defined and being set to 0.0 in labels with no predicted samples. Use `zero_division` parameter to control this behavior.\n",
      "  _warn_prf(average, modifier, msg_start, len(result))\n",
      "C:\\Users\\HAL9000\\anaconda3\\lib\\site-packages\\sklearn\\metrics\\_classification.py:1245: UndefinedMetricWarning: Precision and F-score are ill-defined and being set to 0.0 in labels with no predicted samples. Use `zero_division` parameter to control this behavior.\n",
      "  _warn_prf(average, modifier, msg_start, len(result))\n",
      "C:\\Users\\HAL9000\\anaconda3\\lib\\site-packages\\sklearn\\metrics\\_classification.py:1245: UndefinedMetricWarning: Precision and F-score are ill-defined and being set to 0.0 in labels with no predicted samples. Use `zero_division` parameter to control this behavior.\n",
      "  _warn_prf(average, modifier, msg_start, len(result))\n"
     ]
    }
   ],
   "source": [
    "print(classification_report(y_test, y_pred))"
   ]
  },
  {
   "cell_type": "markdown",
   "id": "491c082c",
   "metadata": {},
   "source": [
    "#### Exportação do modelo"
   ]
  },
  {
   "cell_type": "code",
   "execution_count": 20,
   "id": "5ff60466",
   "metadata": {},
   "outputs": [],
   "source": [
    "#import joblib\n",
    "#joblib.dump(randomforest_model, 'models/randomforest_model.joblib')\n",
    "#Ocupa muito espaço em disco (GBs)"
   ]
  }
 ],
 "metadata": {
  "kernelspec": {
   "display_name": "Python 3",
   "language": "python",
   "name": "python3"
  },
  "language_info": {
   "codemirror_mode": {
    "name": "ipython",
    "version": 3
   },
   "file_extension": ".py",
   "mimetype": "text/x-python",
   "name": "python",
   "nbconvert_exporter": "python",
   "pygments_lexer": "ipython3",
   "version": "3.8.8"
  }
 },
 "nbformat": 4,
 "nbformat_minor": 5
}
