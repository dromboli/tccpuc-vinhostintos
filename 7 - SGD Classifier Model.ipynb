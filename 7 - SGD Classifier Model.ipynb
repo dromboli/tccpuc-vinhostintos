{
 "cells": [
  {
   "cell_type": "markdown",
   "id": "4d456102",
   "metadata": {},
   "source": [
    "### Importação de Pacotes"
   ]
  },
  {
   "cell_type": "code",
   "execution_count": 1,
   "id": "ca3fb327",
   "metadata": {},
   "outputs": [],
   "source": [
    "import pandas as pd\n",
    "import numpy as np\n",
    "import matplotlib.pyplot as plt\n",
    "import seaborn as sns"
   ]
  },
  {
   "cell_type": "markdown",
   "id": "ee63ff3b",
   "metadata": {},
   "source": [
    "### Importação do Dataset"
   ]
  },
  {
   "cell_type": "code",
   "execution_count": 2,
   "id": "24f5eb99",
   "metadata": {},
   "outputs": [],
   "source": [
    "red_wines = pd.read_csv('datasets/red_wines.csv')"
   ]
  },
  {
   "cell_type": "code",
   "execution_count": 3,
   "id": "bf1af285",
   "metadata": {},
   "outputs": [
    {
     "data": {
      "text/html": [
       "<div>\n",
       "<style scoped>\n",
       "    .dataframe tbody tr th:only-of-type {\n",
       "        vertical-align: middle;\n",
       "    }\n",
       "\n",
       "    .dataframe tbody tr th {\n",
       "        vertical-align: top;\n",
       "    }\n",
       "\n",
       "    .dataframe thead th {\n",
       "        text-align: right;\n",
       "    }\n",
       "</style>\n",
       "<table border=\"1\" class=\"dataframe\">\n",
       "  <thead>\n",
       "    <tr style=\"text-align: right;\">\n",
       "      <th></th>\n",
       "      <th>Description</th>\n",
       "      <th>Price</th>\n",
       "      <th>Alcohol</th>\n",
       "      <th>ratings_average</th>\n",
       "      <th>acidity</th>\n",
       "      <th>intensity</th>\n",
       "      <th>sweetness</th>\n",
       "      <th>tannin</th>\n",
       "      <th>vintage_ratings_average</th>\n",
       "      <th>continent</th>\n",
       "      <th>popular_wine</th>\n",
       "      <th>popular_vintage</th>\n",
       "      <th>rating_group</th>\n",
       "    </tr>\n",
       "  </thead>\n",
       "  <tbody>\n",
       "    <tr>\n",
       "      <th>0</th>\n",
       "      <td>This is a soft, richly layered and concentrate...</td>\n",
       "      <td>85.0</td>\n",
       "      <td>14.5</td>\n",
       "      <td>4.3</td>\n",
       "      <td>3.468246</td>\n",
       "      <td>3.143860</td>\n",
       "      <td>1.546160</td>\n",
       "      <td>2.078285</td>\n",
       "      <td>4.4</td>\n",
       "      <td>North America</td>\n",
       "      <td>0</td>\n",
       "      <td>0</td>\n",
       "      <td>4</td>\n",
       "    </tr>\n",
       "    <tr>\n",
       "      <th>1</th>\n",
       "      <td>A strong showing of black cherry and licorice ...</td>\n",
       "      <td>125.0</td>\n",
       "      <td>14.5</td>\n",
       "      <td>4.5</td>\n",
       "      <td>3.344858</td>\n",
       "      <td>4.749089</td>\n",
       "      <td>1.611013</td>\n",
       "      <td>3.312963</td>\n",
       "      <td>4.5</td>\n",
       "      <td>North America</td>\n",
       "      <td>1</td>\n",
       "      <td>0</td>\n",
       "      <td>4</td>\n",
       "    </tr>\n",
       "    <tr>\n",
       "      <th>2</th>\n",
       "      <td>This blended cuvée features the same attention...</td>\n",
       "      <td>52.0</td>\n",
       "      <td>14.2</td>\n",
       "      <td>4.2</td>\n",
       "      <td>3.883377</td>\n",
       "      <td>2.235860</td>\n",
       "      <td>1.453785</td>\n",
       "      <td>2.130269</td>\n",
       "      <td>4.2</td>\n",
       "      <td>North America</td>\n",
       "      <td>1</td>\n",
       "      <td>0</td>\n",
       "      <td>3</td>\n",
       "    </tr>\n",
       "    <tr>\n",
       "      <th>3</th>\n",
       "      <td>This stands apart from the other estate Pinots...</td>\n",
       "      <td>95.0</td>\n",
       "      <td>14.5</td>\n",
       "      <td>4.4</td>\n",
       "      <td>3.887788</td>\n",
       "      <td>2.400275</td>\n",
       "      <td>1.558072</td>\n",
       "      <td>2.328298</td>\n",
       "      <td>4.4</td>\n",
       "      <td>North America</td>\n",
       "      <td>0</td>\n",
       "      <td>0</td>\n",
       "      <td>3</td>\n",
       "    </tr>\n",
       "    <tr>\n",
       "      <th>4</th>\n",
       "      <td>This wine impresses immediately with its flavo...</td>\n",
       "      <td>100.0</td>\n",
       "      <td>14.4</td>\n",
       "      <td>4.3</td>\n",
       "      <td>3.627241</td>\n",
       "      <td>2.472972</td>\n",
       "      <td>1.557877</td>\n",
       "      <td>2.073915</td>\n",
       "      <td>4.5</td>\n",
       "      <td>North America</td>\n",
       "      <td>0</td>\n",
       "      <td>0</td>\n",
       "      <td>3</td>\n",
       "    </tr>\n",
       "  </tbody>\n",
       "</table>\n",
       "</div>"
      ],
      "text/plain": [
       "                                         Description  Price  Alcohol  \\\n",
       "0  This is a soft, richly layered and concentrate...   85.0     14.5   \n",
       "1  A strong showing of black cherry and licorice ...  125.0     14.5   \n",
       "2  This blended cuvée features the same attention...   52.0     14.2   \n",
       "3  This stands apart from the other estate Pinots...   95.0     14.5   \n",
       "4  This wine impresses immediately with its flavo...  100.0     14.4   \n",
       "\n",
       "   ratings_average   acidity  intensity  sweetness    tannin  \\\n",
       "0              4.3  3.468246   3.143860   1.546160  2.078285   \n",
       "1              4.5  3.344858   4.749089   1.611013  3.312963   \n",
       "2              4.2  3.883377   2.235860   1.453785  2.130269   \n",
       "3              4.4  3.887788   2.400275   1.558072  2.328298   \n",
       "4              4.3  3.627241   2.472972   1.557877  2.073915   \n",
       "\n",
       "   vintage_ratings_average      continent  popular_wine  popular_vintage  \\\n",
       "0                      4.4  North America             0                0   \n",
       "1                      4.5  North America             1                0   \n",
       "2                      4.2  North America             1                0   \n",
       "3                      4.4  North America             0                0   \n",
       "4                      4.5  North America             0                0   \n",
       "\n",
       "   rating_group  \n",
       "0             4  \n",
       "1             4  \n",
       "2             3  \n",
       "3             3  \n",
       "4             3  "
      ]
     },
     "execution_count": 3,
     "metadata": {},
     "output_type": "execute_result"
    }
   ],
   "source": [
    "red_wines.head(5)"
   ]
  },
  {
   "cell_type": "markdown",
   "id": "c2c53ca0",
   "metadata": {},
   "source": [
    "### Preprocessing\n",
    " 1. Criação de dummies para o campo **continent**.\n",
    " 2. Separação dos datasets entre treinamento e teste (train_test_split)\n",
    " 3. Normalização dos valores usando StandardScaler"
   ]
  },
  {
   "cell_type": "code",
   "execution_count": 4,
   "id": "af2b5e6e",
   "metadata": {},
   "outputs": [],
   "source": [
    "# 1\n",
    "dummies = pd.get_dummies(red_wines['continent'], drop_first=True)\n",
    "red_wines = pd.concat([red_wines, dummies], axis=1).drop('continent', axis=1)"
   ]
  },
  {
   "cell_type": "code",
   "execution_count": 5,
   "id": "be832d82",
   "metadata": {},
   "outputs": [],
   "source": [
    "# 2\n",
    "from sklearn.feature_extraction.text import TfidfVectorizer\n",
    "\n",
    "vectorizer = TfidfVectorizer(stop_words='english')\n",
    "description_vectorizer = vectorizer.fit_transform(red_wines['Description'])\n",
    "descriptions = pd.DataFrame(description_vectorizer.toarray())\n",
    "\n",
    "red_wines = pd.concat([red_wines, descriptions], axis=1).drop('Description', axis=1)"
   ]
  },
  {
   "cell_type": "code",
   "execution_count": 6,
   "id": "dd784829",
   "metadata": {},
   "outputs": [],
   "source": [
    "# 3\n",
    "X = red_wines.drop('rating_group', axis=1)\n",
    "y = red_wines['rating_group']"
   ]
  },
  {
   "cell_type": "code",
   "execution_count": 7,
   "id": "916fe31d",
   "metadata": {},
   "outputs": [
    {
     "name": "stderr",
     "output_type": "stream",
     "text": [
      "C:\\Users\\HAL9000\\anaconda3\\lib\\site-packages\\pandas\\core\\indexing.py:1738: SettingWithCopyWarning: \n",
      "A value is trying to be set on a copy of a slice from a DataFrame.\n",
      "Try using .loc[row_indexer,col_indexer] = value instead\n",
      "\n",
      "See the caveats in the documentation: https://pandas.pydata.org/pandas-docs/stable/user_guide/indexing.html#returning-a-view-versus-a-copy\n",
      "  self._setitem_single_column(loc, value[:, i].tolist(), pi)\n",
      "C:\\Users\\HAL9000\\anaconda3\\lib\\site-packages\\pandas\\core\\indexing.py:1738: SettingWithCopyWarning: \n",
      "A value is trying to be set on a copy of a slice from a DataFrame.\n",
      "Try using .loc[row_indexer,col_indexer] = value instead\n",
      "\n",
      "See the caveats in the documentation: https://pandas.pydata.org/pandas-docs/stable/user_guide/indexing.html#returning-a-view-versus-a-copy\n",
      "  self._setitem_single_column(loc, value[:, i].tolist(), pi)\n"
     ]
    }
   ],
   "source": [
    "# 4\n",
    "from sklearn.model_selection import train_test_split\n",
    "from sklearn.preprocessing import StandardScaler\n",
    "\n",
    "X_train, X_test, y_train, y_test = train_test_split(X, y, test_size=0.3, random_state=42)\n",
    "\n",
    "scaler = StandardScaler()\n",
    "scaled_columns =['Price', 'Alcohol', 'ratings_average', 'acidity', 'intensity', 'sweetness',\n",
    "                  'tannin', 'vintage_ratings_average']\n",
    "X_train.loc[:, scaled_columns]= scaler.fit_transform(X_train.loc[:, scaled_columns])\n",
    "X_test.loc[:, scaled_columns] = scaler.transform(X_test.loc[:, scaled_columns])"
   ]
  },
  {
   "cell_type": "markdown",
   "id": "ac55fa53",
   "metadata": {},
   "source": [
    "### SGD Classifier Model"
   ]
  },
  {
   "cell_type": "code",
   "execution_count": 8,
   "id": "ca4e38dc",
   "metadata": {},
   "outputs": [],
   "source": [
    "from sklearn.linear_model import SGDClassifier\n",
    "base_model = SGDClassifier()\n"
   ]
  },
  {
   "cell_type": "markdown",
   "id": "0163245a",
   "metadata": {},
   "source": [
    "#### GridSearch - busca pelos melhores hiperparâmetros"
   ]
  },
  {
   "cell_type": "code",
   "execution_count": 9,
   "id": "4cc6a6a7",
   "metadata": {},
   "outputs": [],
   "source": [
    "# Parâmetros\n",
    "param_grid = {\n",
    "    \"loss\" : [\"hinge\", \"perceptron\", \"modified_huber\"],\n",
    "    \"alpha\" : [0.0001, 0.001, 0.01, 0.1],\n",
    "    \"penalty\" : [\"l2\", \"l1\", \"none\"],\n",
    "}"
   ]
  },
  {
   "cell_type": "code",
   "execution_count": 10,
   "id": "8f905f6b",
   "metadata": {
    "scrolled": true
   },
   "outputs": [
    {
     "name": "stdout",
     "output_type": "stream",
     "text": [
      "Fitting 5 folds for each of 36 candidates, totalling 180 fits\n",
      "[CV 1/5] END ...........alpha=0.0001, loss=hinge, penalty=l2; total time= 2.2min\n",
      "[CV 2/5] END ...........alpha=0.0001, loss=hinge, penalty=l2; total time= 1.7min\n",
      "[CV 3/5] END ...........alpha=0.0001, loss=hinge, penalty=l2; total time= 1.5min\n",
      "[CV 4/5] END ...........alpha=0.0001, loss=hinge, penalty=l2; total time= 1.7min\n",
      "[CV 5/5] END ...........alpha=0.0001, loss=hinge, penalty=l2; total time= 1.7min\n",
      "[CV 1/5] END ...........alpha=0.0001, loss=hinge, penalty=l1; total time= 3.5min\n",
      "[CV 2/5] END ...........alpha=0.0001, loss=hinge, penalty=l1; total time= 3.4min\n",
      "[CV 3/5] END ...........alpha=0.0001, loss=hinge, penalty=l1; total time= 3.1min\n",
      "[CV 4/5] END ...........alpha=0.0001, loss=hinge, penalty=l1; total time= 3.3min\n",
      "[CV 5/5] END ...........alpha=0.0001, loss=hinge, penalty=l1; total time= 2.7min\n",
      "[CV 1/5] END .........alpha=0.0001, loss=hinge, penalty=none; total time= 1.9min\n",
      "[CV 2/5] END .........alpha=0.0001, loss=hinge, penalty=none; total time= 1.7min\n",
      "[CV 3/5] END .........alpha=0.0001, loss=hinge, penalty=none; total time= 1.8min\n",
      "[CV 4/5] END .........alpha=0.0001, loss=hinge, penalty=none; total time= 2.0min\n",
      "[CV 5/5] END .........alpha=0.0001, loss=hinge, penalty=none; total time= 1.9min\n",
      "[CV 1/5] END ......alpha=0.0001, loss=perceptron, penalty=l2; total time= 1.0min\n",
      "[CV 2/5] END ......alpha=0.0001, loss=perceptron, penalty=l2; total time= 1.0min\n",
      "[CV 3/5] END ......alpha=0.0001, loss=perceptron, penalty=l2; total time= 1.1min\n",
      "[CV 4/5] END ......alpha=0.0001, loss=perceptron, penalty=l2; total time= 1.1min\n",
      "[CV 5/5] END ......alpha=0.0001, loss=perceptron, penalty=l2; total time=  59.9s\n",
      "[CV 1/5] END ......alpha=0.0001, loss=perceptron, penalty=l1; total time= 2.6min\n",
      "[CV 2/5] END ......alpha=0.0001, loss=perceptron, penalty=l1; total time= 2.5min\n",
      "[CV 3/5] END ......alpha=0.0001, loss=perceptron, penalty=l1; total time= 2.5min\n",
      "[CV 4/5] END ......alpha=0.0001, loss=perceptron, penalty=l1; total time= 2.3min\n",
      "[CV 5/5] END ......alpha=0.0001, loss=perceptron, penalty=l1; total time= 2.7min\n",
      "[CV 1/5] END ....alpha=0.0001, loss=perceptron, penalty=none; total time= 1.4min\n",
      "[CV 2/5] END ....alpha=0.0001, loss=perceptron, penalty=none; total time= 1.4min\n",
      "[CV 3/5] END ....alpha=0.0001, loss=perceptron, penalty=none; total time= 1.4min\n",
      "[CV 4/5] END ....alpha=0.0001, loss=perceptron, penalty=none; total time= 1.5min\n",
      "[CV 5/5] END ....alpha=0.0001, loss=perceptron, penalty=none; total time= 1.5min\n",
      "[CV 1/5] END ..alpha=0.0001, loss=modified_huber, penalty=l2; total time= 2.2min\n",
      "[CV 2/5] END ..alpha=0.0001, loss=modified_huber, penalty=l2; total time= 2.5min\n",
      "[CV 3/5] END ..alpha=0.0001, loss=modified_huber, penalty=l2; total time= 2.4min\n",
      "[CV 4/5] END ..alpha=0.0001, loss=modified_huber, penalty=l2; total time= 2.4min\n",
      "[CV 5/5] END ..alpha=0.0001, loss=modified_huber, penalty=l2; total time= 2.4min\n",
      "[CV 1/5] END ..alpha=0.0001, loss=modified_huber, penalty=l1; total time=16.9min\n",
      "[CV 2/5] END ..alpha=0.0001, loss=modified_huber, penalty=l1; total time=14.7min\n",
      "[CV 3/5] END ..alpha=0.0001, loss=modified_huber, penalty=l1; total time=17.2min\n",
      "[CV 4/5] END ..alpha=0.0001, loss=modified_huber, penalty=l1; total time=19.1min\n",
      "[CV 5/5] END ..alpha=0.0001, loss=modified_huber, penalty=l1; total time=15.7min\n",
      "[CV 1/5] END alpha=0.0001, loss=modified_huber, penalty=none; total time= 5.9min\n",
      "[CV 2/5] END alpha=0.0001, loss=modified_huber, penalty=none; total time= 6.1min\n",
      "[CV 3/5] END alpha=0.0001, loss=modified_huber, penalty=none; total time= 6.2min\n",
      "[CV 4/5] END alpha=0.0001, loss=modified_huber, penalty=none; total time= 6.9min\n",
      "[CV 5/5] END alpha=0.0001, loss=modified_huber, penalty=none; total time= 5.9min\n",
      "[CV 1/5] END ............alpha=0.001, loss=hinge, penalty=l2; total time=  43.6s\n",
      "[CV 2/5] END ............alpha=0.001, loss=hinge, penalty=l2; total time=  43.7s\n",
      "[CV 3/5] END ............alpha=0.001, loss=hinge, penalty=l2; total time=  45.8s\n",
      "[CV 4/5] END ............alpha=0.001, loss=hinge, penalty=l2; total time=  45.7s\n",
      "[CV 5/5] END ............alpha=0.001, loss=hinge, penalty=l2; total time=  45.5s\n",
      "[CV 1/5] END ............alpha=0.001, loss=hinge, penalty=l1; total time= 1.4min\n",
      "[CV 2/5] END ............alpha=0.001, loss=hinge, penalty=l1; total time= 1.3min\n",
      "[CV 3/5] END ............alpha=0.001, loss=hinge, penalty=l1; total time= 1.8min\n",
      "[CV 4/5] END ............alpha=0.001, loss=hinge, penalty=l1; total time= 1.8min\n",
      "[CV 5/5] END ............alpha=0.001, loss=hinge, penalty=l1; total time= 1.3min\n",
      "[CV 1/5] END ..........alpha=0.001, loss=hinge, penalty=none; total time= 1.2min\n",
      "[CV 2/5] END ..........alpha=0.001, loss=hinge, penalty=none; total time= 1.0min\n",
      "[CV 3/5] END ..........alpha=0.001, loss=hinge, penalty=none; total time= 1.1min\n",
      "[CV 4/5] END ..........alpha=0.001, loss=hinge, penalty=none; total time= 1.0min\n",
      "[CV 5/5] END ..........alpha=0.001, loss=hinge, penalty=none; total time= 1.0min\n",
      "[CV 1/5] END .......alpha=0.001, loss=perceptron, penalty=l2; total time=  32.9s\n",
      "[CV 2/5] END .......alpha=0.001, loss=perceptron, penalty=l2; total time=  33.3s\n",
      "[CV 3/5] END .......alpha=0.001, loss=perceptron, penalty=l2; total time=  33.0s\n",
      "[CV 4/5] END .......alpha=0.001, loss=perceptron, penalty=l2; total time=  35.5s\n",
      "[CV 5/5] END .......alpha=0.001, loss=perceptron, penalty=l2; total time=  31.6s\n",
      "[CV 1/5] END .......alpha=0.001, loss=perceptron, penalty=l1; total time= 1.0min\n",
      "[CV 2/5] END .......alpha=0.001, loss=perceptron, penalty=l1; total time=  59.8s\n",
      "[CV 3/5] END .......alpha=0.001, loss=perceptron, penalty=l1; total time= 1.2min\n",
      "[CV 4/5] END .......alpha=0.001, loss=perceptron, penalty=l1; total time= 1.2min\n",
      "[CV 5/5] END .......alpha=0.001, loss=perceptron, penalty=l1; total time= 1.1min\n",
      "[CV 1/5] END .....alpha=0.001, loss=perceptron, penalty=none; total time=  42.8s\n",
      "[CV 2/5] END .....alpha=0.001, loss=perceptron, penalty=none; total time=  46.6s\n",
      "[CV 3/5] END .....alpha=0.001, loss=perceptron, penalty=none; total time=  45.2s\n",
      "[CV 4/5] END .....alpha=0.001, loss=perceptron, penalty=none; total time=  48.0s\n",
      "[CV 5/5] END .....alpha=0.001, loss=perceptron, penalty=none; total time=  44.5s\n",
      "[CV 1/5] END ...alpha=0.001, loss=modified_huber, penalty=l2; total time= 1.6min\n",
      "[CV 2/5] END ...alpha=0.001, loss=modified_huber, penalty=l2; total time= 1.5min\n",
      "[CV 3/5] END ...alpha=0.001, loss=modified_huber, penalty=l2; total time= 1.5min\n",
      "[CV 4/5] END ...alpha=0.001, loss=modified_huber, penalty=l2; total time= 1.7min\n",
      "[CV 5/5] END ...alpha=0.001, loss=modified_huber, penalty=l2; total time= 1.3min\n",
      "[CV 1/5] END ...alpha=0.001, loss=modified_huber, penalty=l1; total time= 3.5min\n",
      "[CV 2/5] END ...alpha=0.001, loss=modified_huber, penalty=l1; total time= 3.1min\n",
      "[CV 3/5] END ...alpha=0.001, loss=modified_huber, penalty=l1; total time= 3.7min\n",
      "[CV 4/5] END ...alpha=0.001, loss=modified_huber, penalty=l1; total time= 3.4min\n",
      "[CV 5/5] END ...alpha=0.001, loss=modified_huber, penalty=l1; total time= 2.9min\n",
      "[CV 1/5] END .alpha=0.001, loss=modified_huber, penalty=none; total time= 3.8min\n",
      "[CV 2/5] END .alpha=0.001, loss=modified_huber, penalty=none; total time= 3.9min\n",
      "[CV 3/5] END .alpha=0.001, loss=modified_huber, penalty=none; total time= 4.2min\n",
      "[CV 4/5] END .alpha=0.001, loss=modified_huber, penalty=none; total time= 4.0min\n",
      "[CV 5/5] END .alpha=0.001, loss=modified_huber, penalty=none; total time= 3.9min\n",
      "[CV 1/5] END .............alpha=0.01, loss=hinge, penalty=l2; total time=  29.1s\n",
      "[CV 2/5] END .............alpha=0.01, loss=hinge, penalty=l2; total time=  28.3s\n",
      "[CV 3/5] END .............alpha=0.01, loss=hinge, penalty=l2; total time=  27.2s\n",
      "[CV 4/5] END .............alpha=0.01, loss=hinge, penalty=l2; total time=  28.7s\n",
      "[CV 5/5] END .............alpha=0.01, loss=hinge, penalty=l2; total time=  29.2s\n",
      "[CV 1/5] END .............alpha=0.01, loss=hinge, penalty=l1; total time=  58.5s\n",
      "[CV 2/5] END .............alpha=0.01, loss=hinge, penalty=l1; total time=  58.9s\n",
      "[CV 3/5] END .............alpha=0.01, loss=hinge, penalty=l1; total time=  55.1s\n",
      "[CV 4/5] END .............alpha=0.01, loss=hinge, penalty=l1; total time=  55.9s\n",
      "[CV 5/5] END .............alpha=0.01, loss=hinge, penalty=l1; total time=  53.5s\n",
      "[CV 1/5] END ...........alpha=0.01, loss=hinge, penalty=none; total time=  36.1s\n"
     ]
    },
    {
     "name": "stdout",
     "output_type": "stream",
     "text": [
      "[CV 2/5] END ...........alpha=0.01, loss=hinge, penalty=none; total time=  40.5s\n",
      "[CV 3/5] END ...........alpha=0.01, loss=hinge, penalty=none; total time=  39.0s\n",
      "[CV 4/5] END ...........alpha=0.01, loss=hinge, penalty=none; total time=  37.2s\n",
      "[CV 5/5] END ...........alpha=0.01, loss=hinge, penalty=none; total time=  34.4s\n",
      "[CV 1/5] END ........alpha=0.01, loss=perceptron, penalty=l2; total time=  23.7s\n",
      "[CV 2/5] END ........alpha=0.01, loss=perceptron, penalty=l2; total time=  24.2s\n",
      "[CV 3/5] END ........alpha=0.01, loss=perceptron, penalty=l2; total time=  24.6s\n",
      "[CV 4/5] END ........alpha=0.01, loss=perceptron, penalty=l2; total time=  25.6s\n",
      "[CV 5/5] END ........alpha=0.01, loss=perceptron, penalty=l2; total time=  24.6s\n",
      "[CV 1/5] END ........alpha=0.01, loss=perceptron, penalty=l1; total time=  50.3s\n",
      "[CV 2/5] END ........alpha=0.01, loss=perceptron, penalty=l1; total time=  49.8s\n",
      "[CV 3/5] END ........alpha=0.01, loss=perceptron, penalty=l1; total time=  50.9s\n",
      "[CV 4/5] END ........alpha=0.01, loss=perceptron, penalty=l1; total time=  50.5s\n",
      "[CV 5/5] END ........alpha=0.01, loss=perceptron, penalty=l1; total time=  50.6s\n",
      "[CV 1/5] END ......alpha=0.01, loss=perceptron, penalty=none; total time=  29.3s\n",
      "[CV 2/5] END ......alpha=0.01, loss=perceptron, penalty=none; total time=  32.5s\n",
      "[CV 3/5] END ......alpha=0.01, loss=perceptron, penalty=none; total time=  28.7s\n",
      "[CV 4/5] END ......alpha=0.01, loss=perceptron, penalty=none; total time=  31.4s\n",
      "[CV 5/5] END ......alpha=0.01, loss=perceptron, penalty=none; total time=  28.2s\n",
      "[CV 1/5] END ....alpha=0.01, loss=modified_huber, penalty=l2; total time=  49.8s\n",
      "[CV 2/5] END ....alpha=0.01, loss=modified_huber, penalty=l2; total time=  53.8s\n",
      "[CV 3/5] END ....alpha=0.01, loss=modified_huber, penalty=l2; total time=  52.9s\n",
      "[CV 4/5] END ....alpha=0.01, loss=modified_huber, penalty=l2; total time=  54.7s\n",
      "[CV 5/5] END ....alpha=0.01, loss=modified_huber, penalty=l2; total time=  55.6s\n",
      "[CV 1/5] END ....alpha=0.01, loss=modified_huber, penalty=l1; total time= 1.8min\n",
      "[CV 2/5] END ....alpha=0.01, loss=modified_huber, penalty=l1; total time= 3.6min\n",
      "[CV 3/5] END ....alpha=0.01, loss=modified_huber, penalty=l1; total time= 2.9min\n",
      "[CV 4/5] END ....alpha=0.01, loss=modified_huber, penalty=l1; total time= 2.6min\n",
      "[CV 5/5] END ....alpha=0.01, loss=modified_huber, penalty=l1; total time= 2.6min\n",
      "[CV 1/5] END ..alpha=0.01, loss=modified_huber, penalty=none; total time= 1.9min\n",
      "[CV 2/5] END ..alpha=0.01, loss=modified_huber, penalty=none; total time= 1.8min\n",
      "[CV 3/5] END ..alpha=0.01, loss=modified_huber, penalty=none; total time= 1.8min\n",
      "[CV 4/5] END ..alpha=0.01, loss=modified_huber, penalty=none; total time= 1.9min\n",
      "[CV 5/5] END ..alpha=0.01, loss=modified_huber, penalty=none; total time= 2.0min\n",
      "[CV 1/5] END ..............alpha=0.1, loss=hinge, penalty=l2; total time=  25.3s\n",
      "[CV 2/5] END ..............alpha=0.1, loss=hinge, penalty=l2; total time=  24.4s\n",
      "[CV 3/5] END ..............alpha=0.1, loss=hinge, penalty=l2; total time=  24.6s\n",
      "[CV 4/5] END ..............alpha=0.1, loss=hinge, penalty=l2; total time=  23.2s\n",
      "[CV 5/5] END ..............alpha=0.1, loss=hinge, penalty=l2; total time=  24.8s\n",
      "[CV 1/5] END ..............alpha=0.1, loss=hinge, penalty=l1; total time=  47.5s\n",
      "[CV 2/5] END ..............alpha=0.1, loss=hinge, penalty=l1; total time=  48.0s\n",
      "[CV 3/5] END ..............alpha=0.1, loss=hinge, penalty=l1; total time=  46.6s\n",
      "[CV 4/5] END ..............alpha=0.1, loss=hinge, penalty=l1; total time=  46.3s\n",
      "[CV 5/5] END ..............alpha=0.1, loss=hinge, penalty=l1; total time=  46.4s\n",
      "[CV 1/5] END ............alpha=0.1, loss=hinge, penalty=none; total time=  37.3s\n",
      "[CV 2/5] END ............alpha=0.1, loss=hinge, penalty=none; total time=  37.7s\n",
      "[CV 3/5] END ............alpha=0.1, loss=hinge, penalty=none; total time=  34.8s\n",
      "[CV 4/5] END ............alpha=0.1, loss=hinge, penalty=none; total time=  38.3s\n",
      "[CV 5/5] END ............alpha=0.1, loss=hinge, penalty=none; total time=  39.8s\n",
      "[CV 1/5] END .........alpha=0.1, loss=perceptron, penalty=l2; total time=  22.3s\n",
      "[CV 2/5] END .........alpha=0.1, loss=perceptron, penalty=l2; total time=  21.4s\n",
      "[CV 3/5] END .........alpha=0.1, loss=perceptron, penalty=l2; total time=  22.1s\n",
      "[CV 4/5] END .........alpha=0.1, loss=perceptron, penalty=l2; total time=  21.6s\n",
      "[CV 5/5] END .........alpha=0.1, loss=perceptron, penalty=l2; total time=  21.6s\n",
      "[CV 1/5] END .........alpha=0.1, loss=perceptron, penalty=l1; total time=  46.8s\n",
      "[CV 2/5] END .........alpha=0.1, loss=perceptron, penalty=l1; total time=  45.7s\n",
      "[CV 3/5] END .........alpha=0.1, loss=perceptron, penalty=l1; total time=  45.2s\n",
      "[CV 4/5] END .........alpha=0.1, loss=perceptron, penalty=l1; total time=  46.0s\n",
      "[CV 5/5] END .........alpha=0.1, loss=perceptron, penalty=l1; total time=  43.8s\n",
      "[CV 1/5] END .......alpha=0.1, loss=perceptron, penalty=none; total time=  26.2s\n",
      "[CV 2/5] END .......alpha=0.1, loss=perceptron, penalty=none; total time=  32.1s\n",
      "[CV 3/5] END .......alpha=0.1, loss=perceptron, penalty=none; total time=  32.3s\n",
      "[CV 4/5] END .......alpha=0.1, loss=perceptron, penalty=none; total time=  32.8s\n",
      "[CV 5/5] END .......alpha=0.1, loss=perceptron, penalty=none; total time=  34.5s\n",
      "[CV 1/5] END .....alpha=0.1, loss=modified_huber, penalty=l2; total time=  31.6s\n",
      "[CV 2/5] END .....alpha=0.1, loss=modified_huber, penalty=l2; total time=  31.0s\n",
      "[CV 3/5] END .....alpha=0.1, loss=modified_huber, penalty=l2; total time=  32.4s\n",
      "[CV 4/5] END .....alpha=0.1, loss=modified_huber, penalty=l2; total time=  31.7s\n",
      "[CV 5/5] END .....alpha=0.1, loss=modified_huber, penalty=l2; total time=  31.4s\n",
      "[CV 1/5] END .....alpha=0.1, loss=modified_huber, penalty=l1; total time= 1.0min\n",
      "[CV 2/5] END .....alpha=0.1, loss=modified_huber, penalty=l1; total time=  59.6s\n",
      "[CV 3/5] END .....alpha=0.1, loss=modified_huber, penalty=l1; total time= 1.0min\n"
     ]
    },
    {
     "name": "stderr",
     "output_type": "stream",
     "text": [
      "C:\\Users\\HAL9000\\anaconda3\\lib\\site-packages\\sklearn\\linear_model\\_stochastic_gradient.py:574: ConvergenceWarning: Maximum number of iteration reached before convergence. Consider increasing max_iter to improve the fit.\n",
      "  warnings.warn(\"Maximum number of iteration reached before \"\n"
     ]
    },
    {
     "name": "stdout",
     "output_type": "stream",
     "text": [
      "[CV 4/5] END .....alpha=0.1, loss=modified_huber, penalty=l1; total time=16.7min\n",
      "[CV 5/5] END .....alpha=0.1, loss=modified_huber, penalty=l1; total time= 1.1min\n",
      "[CV 1/5] END ...alpha=0.1, loss=modified_huber, penalty=none; total time= 1.1min\n",
      "[CV 2/5] END ...alpha=0.1, loss=modified_huber, penalty=none; total time= 1.2min\n",
      "[CV 3/5] END ...alpha=0.1, loss=modified_huber, penalty=none; total time=  56.7s\n",
      "[CV 4/5] END ...alpha=0.1, loss=modified_huber, penalty=none; total time= 1.2min\n",
      "[CV 5/5] END ...alpha=0.1, loss=modified_huber, penalty=none; total time= 1.7min\n"
     ]
    },
    {
     "data": {
      "text/plain": [
       "GridSearchCV(estimator=SGDClassifier(),\n",
       "             param_grid={'alpha': [0.0001, 0.001, 0.01, 0.1],\n",
       "                         'loss': ['hinge', 'perceptron', 'modified_huber'],\n",
       "                         'penalty': ['l2', 'l1', 'none']},\n",
       "             verbose=4)"
      ]
     },
     "execution_count": 10,
     "metadata": {},
     "output_type": "execute_result"
    }
   ],
   "source": [
    "from sklearn.model_selection import GridSearchCV\n",
    "\n",
    "sgd_model = GridSearchCV(base_model,param_grid=param_grid, verbose=4)\n",
    "sgd_model.fit(X_train, y_train)"
   ]
  },
  {
   "cell_type": "code",
   "execution_count": 11,
   "id": "be5f3046",
   "metadata": {},
   "outputs": [
    {
     "data": {
      "text/plain": [
       "{'alpha': 0.0001, 'loss': 'hinge', 'penalty': 'l2'}"
      ]
     },
     "execution_count": 11,
     "metadata": {},
     "output_type": "execute_result"
    }
   ],
   "source": [
    "sgd_model.best_params_"
   ]
  },
  {
   "cell_type": "code",
   "execution_count": 12,
   "id": "2762267b",
   "metadata": {},
   "outputs": [
    {
     "name": "stdout",
     "output_type": "stream",
     "text": [
      "Best: 0.6355155768261131 using {'alpha': 0.0001, 'loss': 'hinge', 'penalty': 'l2'}\n",
      "0.6355155768261131 (0.006760567539885955) with: {'alpha': 0.0001, 'loss': 'hinge', 'penalty': 'l2'}\n",
      "0.6289554440071464 (0.008003444284865442) with: {'alpha': 0.0001, 'loss': 'hinge', 'penalty': 'l1'}\n",
      "0.6176322728362305 (0.008451009782250636) with: {'alpha': 0.0001, 'loss': 'hinge', 'penalty': 'none'}\n",
      "0.5640755396065734 (0.017722148378463278) with: {'alpha': 0.0001, 'loss': 'perceptron', 'penalty': 'l2'}\n",
      "0.5205858653129712 (0.0418654850977782) with: {'alpha': 0.0001, 'loss': 'perceptron', 'penalty': 'l1'}\n",
      "0.5978039290703263 (0.0064308186255500575) with: {'alpha': 0.0001, 'loss': 'perceptron', 'penalty': 'none'}\n",
      "0.6181174139504787 (0.0031014222351114784) with: {'alpha': 0.0001, 'loss': 'modified_huber', 'penalty': 'l2'}\n",
      "0.6148129517385847 (0.005664855125649298) with: {'alpha': 0.0001, 'loss': 'modified_huber', 'penalty': 'l1'}\n",
      "0.5938185098722703 (0.005798974151357518) with: {'alpha': 0.0001, 'loss': 'modified_huber', 'penalty': 'none'}\n",
      "0.5948889140797788 (0.014543822976621299) with: {'alpha': 0.001, 'loss': 'hinge', 'penalty': 'l2'}\n",
      "0.5331194744865486 (0.0065119889705541325) with: {'alpha': 0.001, 'loss': 'hinge', 'penalty': 'l1'}\n",
      "0.6324539980894285 (0.003452110911609601) with: {'alpha': 0.001, 'loss': 'hinge', 'penalty': 'none'}\n",
      "0.5403156575944038 (0.037848055216334414) with: {'alpha': 0.001, 'loss': 'perceptron', 'penalty': 'l2'}\n",
      "0.44914464727046866 (0.05930798938867299) with: {'alpha': 0.001, 'loss': 'perceptron', 'penalty': 'l1'}\n",
      "0.5915828813733444 (0.003107089864382381) with: {'alpha': 0.001, 'loss': 'perceptron', 'penalty': 'none'}\n",
      "0.6340090002326221 (0.003121465116833967) with: {'alpha': 0.001, 'loss': 'modified_huber', 'penalty': 'l2'}\n",
      "0.597123680577942 (0.006967584858277506) with: {'alpha': 0.001, 'loss': 'modified_huber', 'penalty': 'l1'}\n",
      "0.6014488933917604 (0.011003915738001458) with: {'alpha': 0.001, 'loss': 'modified_huber', 'penalty': 'none'}\n",
      "0.5186858503165196 (0.006590364117850658) with: {'alpha': 0.01, 'loss': 'hinge', 'penalty': 'l2'}\n",
      "0.48529962792268444 (0.006872868986512761) with: {'alpha': 0.01, 'loss': 'hinge', 'penalty': 'l1'}\n",
      "0.5900280799700542 (0.0058641588734682105) with: {'alpha': 0.01, 'loss': 'hinge', 'penalty': 'none'}\n",
      "0.5664095188500673 (0.027888586142066362) with: {'alpha': 0.01, 'loss': 'perceptron', 'penalty': 'l2'}\n",
      "0.4410346252717369 (0.06992614643456203) with: {'alpha': 0.01, 'loss': 'perceptron', 'penalty': 'l1'}\n",
      "0.562083987214049 (0.007773580392090374) with: {'alpha': 0.01, 'loss': 'perceptron', 'penalty': 'none'}\n",
      "0.5868688944072682 (0.006217831396147861) with: {'alpha': 0.01, 'loss': 'modified_huber', 'penalty': 'l2'}\n",
      "0.5182487686968555 (0.007400439702897043) with: {'alpha': 0.01, 'loss': 'modified_huber', 'penalty': 'l1'}\n",
      "0.5927494518029395 (0.005091785736085802) with: {'alpha': 0.01, 'loss': 'modified_huber', 'penalty': 'none'}\n",
      "0.5007046915277134 (0.0035194204607664247) with: {'alpha': 0.1, 'loss': 'hinge', 'penalty': 'l2'}\n",
      "0.4669771640647233 (0.009185868108519084) with: {'alpha': 0.1, 'loss': 'hinge', 'penalty': 'l1'}\n",
      "0.5247129714583282 (0.009069729383237475) with: {'alpha': 0.1, 'loss': 'hinge', 'penalty': 'none'}\n",
      "0.5649023400368653 (0.0290021281124273) with: {'alpha': 0.1, 'loss': 'perceptron', 'penalty': 'l2'}\n",
      "0.35252651242757127 (0.13738835406301633) with: {'alpha': 0.1, 'loss': 'perceptron', 'penalty': 'l1'}\n",
      "0.5055637307865343 (0.011241604989354826) with: {'alpha': 0.1, 'loss': 'perceptron', 'penalty': 'none'}\n",
      "0.5281625331958856 (0.00753793345320982) with: {'alpha': 0.1, 'loss': 'modified_huber', 'penalty': 'l2'}\n",
      "0.5051754171552322 (0.003386434788552806) with: {'alpha': 0.1, 'loss': 'modified_huber', 'penalty': 'l1'}\n",
      "0.5685473870159069 (0.004685029768248621) with: {'alpha': 0.1, 'loss': 'modified_huber', 'penalty': 'none'}\n"
     ]
    }
   ],
   "source": [
    "# Resultados\n",
    "print(\"Best: {} using {}\".format(sgd_model.best_score_, sgd_model.best_params_))\n",
    "means = sgd_model.cv_results_['mean_test_score']\n",
    "stds = sgd_model.cv_results_['std_test_score']\n",
    "params = sgd_model.cv_results_['params']\n",
    "for mean, stdev, param in zip(means, stds, params):\n",
    "    print(\"{} ({}) with: {}\".format(mean, stdev, param))"
   ]
  },
  {
   "cell_type": "markdown",
   "id": "5e776311",
   "metadata": {},
   "source": [
    "#### Avaliação do modelo"
   ]
  },
  {
   "cell_type": "code",
   "execution_count": 13,
   "id": "8bb32a9e",
   "metadata": {
    "scrolled": true
   },
   "outputs": [
    {
     "name": "stdout",
     "output_type": "stream",
     "text": [
      "Acurácia (treinamento): 0.7295038149390096\n",
      "Acurácia (teste): 0.6466719582719129\n"
     ]
    }
   ],
   "source": [
    "y_pred = sgd_model.predict(X_test)\n",
    "\n",
    "from sklearn.metrics import accuracy_score, classification_report, plot_confusion_matrix\n",
    "train_acc = accuracy_score(y_train, sgd_model.predict(X_train))\n",
    "test_acc = accuracy_score(y_test, y_pred)\n",
    "print('Acurácia (treinamento): {}'.format(train_acc))\n",
    "print('Acurácia (teste): {}'.format(test_acc))"
   ]
  },
  {
   "cell_type": "code",
   "execution_count": 14,
   "id": "f81ac290",
   "metadata": {},
   "outputs": [
    {
     "data": {
      "text/plain": [
       "Text(0.5, 1.0, 'Matriz de confusão - SGD Classifier Model')"
      ]
     },
     "execution_count": 14,
     "metadata": {},
     "output_type": "execute_result"
    },
    {
     "data": {
      "image/png": "[encoded data removed]",
      "text/plain": [
       "<Figure size 576x432 with 2 Axes>"
      ]
     },
     "metadata": {
      "needs_background": "light"
     },
     "output_type": "display_data"
    }
   ],
   "source": [
    "# Gráfico de matriz de confusão\n",
    "fig, ax = plt.subplots(figsize=(8, 6))\n",
    "plot_confusion_matrix(sgd_model, X_test,y_test, ax=ax)\n",
    "plt.title('Matriz de confusão - SGD Classifier Model')"
   ]
  },
  {
   "cell_type": "code",
   "execution_count": 15,
   "id": "a71d609f",
   "metadata": {
    "scrolled": false
   },
   "outputs": [
    {
     "name": "stdout",
     "output_type": "stream",
     "text": [
      "              precision    recall  f1-score   support\n",
      "\n",
      "           0       0.00      0.00      0.00        51\n",
      "           1       0.62      0.42      0.50      1116\n",
      "           2       0.62      0.61      0.61      2793\n",
      "           3       0.67      0.84      0.74      4006\n",
      "           4       0.62      0.19      0.29       823\n",
      "           5       0.11      0.03      0.05        30\n",
      "\n",
      "    accuracy                           0.65      8819\n",
      "   macro avg       0.44      0.35      0.37      8819\n",
      "weighted avg       0.64      0.65      0.62      8819\n",
      "\n"
     ]
    },
    {
     "name": "stderr",
     "output_type": "stream",
     "text": [
      "C:\\Users\\HAL9000\\anaconda3\\lib\\site-packages\\sklearn\\metrics\\_classification.py:1245: UndefinedMetricWarning: Precision and F-score are ill-defined and being set to 0.0 in labels with no predicted samples. Use `zero_division` parameter to control this behavior.\n",
      "  _warn_prf(average, modifier, msg_start, len(result))\n",
      "C:\\Users\\HAL9000\\anaconda3\\lib\\site-packages\\sklearn\\metrics\\_classification.py:1245: UndefinedMetricWarning: Precision and F-score are ill-defined and being set to 0.0 in labels with no predicted samples. Use `zero_division` parameter to control this behavior.\n",
      "  _warn_prf(average, modifier, msg_start, len(result))\n",
      "C:\\Users\\HAL9000\\anaconda3\\lib\\site-packages\\sklearn\\metrics\\_classification.py:1245: UndefinedMetricWarning: Precision and F-score are ill-defined and being set to 0.0 in labels with no predicted samples. Use `zero_division` parameter to control this behavior.\n",
      "  _warn_prf(average, modifier, msg_start, len(result))\n"
     ]
    }
   ],
   "source": [
    "print(classification_report(y_test, y_pred))"
   ]
  },
  {
   "cell_type": "markdown",
   "id": "491c082c",
   "metadata": {},
   "source": [
    "#### Exportação do modelo"
   ]
  },
  {
   "cell_type": "code",
   "execution_count": 16,
   "id": "5ff60466",
   "metadata": {},
   "outputs": [
    {
     "data": {
      "text/plain": [
       "['models/sgd_model.joblib']"
      ]
     },
     "execution_count": 16,
     "metadata": {},
     "output_type": "execute_result"
    }
   ],
   "source": [
    "import joblib\n",
    "joblib.dump(sgd_model, 'models/sgd_model.joblib')\n"
   ]
  }
 ],
 "metadata": {
  "kernelspec": {
   "display_name": "Python 3",
   "language": "python",
   "name": "python3"
  },
  "language_info": {
   "codemirror_mode": {
    "name": "ipython",
    "version": 3
   },
   "file_extension": ".py",
   "mimetype": "text/x-python",
   "name": "python",
   "nbconvert_exporter": "python",
   "pygments_lexer": "ipython3",
   "version": "3.8.8"
  }
 },
 "nbformat": 4,
 "nbformat_minor": 5
}
